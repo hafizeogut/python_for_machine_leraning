{
 "cells": [
  {
   "cell_type": "markdown",
   "metadata": {
    "id": "QkcKMNzWAbg7"
   },
   "source": [
    "#Chapter 4 \n",
    "##NumPy\n",
    "Rachel, geçen sefer çalışan verilerini temizleme ve yapılandırma şeklinizden çok memnun ama işleri bir adım daha ileri taşımak istiyor. Satış ekibi, çalışanların performansını yalnızca elde ettikleri gelire göre değil, aynı zamanda çağrı sayısını ve ortalama anlaşma boyutunu da dikkate alarak takip etmek istiyor. Bunun için Rachel senden raporlamaya yönelik bir yazılım oluşturmanı istiyor. Veriler üzerinde hesaplamalar yapabilmek için Numpy kullanarak bir veri yapısı oluşturmanın en iyisi olacağına karar veriyorsunuz."
   ]
  },
  {
   "cell_type": "markdown",
   "metadata": {
    "id": "LWlWyFTek4PO"
   },
   "source": [
    "### Veriyi alın\n",
    "\n",
    "İlk önce verileri almanız gerekiyor. Geçen bölümde ilgili bilgileri içeren listeler oluşturdunuz.\n",
    "\n",
    "📌 3. bölümde oluşturduğunuz \"isimler\", \"arama_numarası\", \"ortalama_anlaşma_boyutu\" ve \"gelir\" listelerini kopyalayıp yapıştırın ve bunları değişkenlere atayın. "
   ]
  },
  {
   "cell_type": "code",
   "execution_count": 67,
   "metadata": {
    "id": "XtkCWxs4lGyX"
   },
   "outputs": [],
   "source": [
    "#Copy the lists \"names\", \"call_numbers\", \"average_deal_size\", and \"revenues\" from chapter 3\n",
    "names = ['Ben', 'Omer', 'Karen', 'Celine', 'Sue', 'Bora', 'Rose', 'Ellen', 'Bob', 'Taylor,', 'Jude']\n",
    "call_numbers = [300, 10, 500, 70, 100, 100, 600, 800, 200, 450, 80]\n",
    "averadge_deal_sizes=[8, 6, 24, 32, 5, 25, 25, 40, 15, 10, 12]\n",
    "revenues = [2400, 60, 12000, 2275, 500, 770, 4000, 6000, 800, 1200, 500]"
   ]
  },
  {
   "cell_type": "markdown",
   "metadata": {
    "id": "Ge6Rw3bkA1nq"
   },
   "source": [
    "### NumPy'yi içe aktarma\n",
    "\n",
    "NumPy'yi kullanarak bir veri yapısı oluşturmayı planlıyorsunuz.\n",
    "\n",
    "📌 NumPy kütüphanesini şu şekilde içe aktarın:"
   ]
  },
  {
   "cell_type": "code",
   "execution_count": 68,
   "metadata": {
    "id": "bkJKAysX41P0"
   },
   "outputs": [],
   "source": [
    "#Import the NumPy library\n",
    "import numpy as np"
   ]
  },
  {
   "cell_type": "markdown",
   "metadata": {
    "id": "V_RyXQRPDKDX"
   },
   "source": [
    "###İlk (temel) diziler oluşturma\n",
    "\n",
    "Daha sonra değerleri saklayacağınız bir dizi hazırlamanız gerekiyor. İlk dizi boş olacaktır. Sayısal veri tutacağından veri tipinin tamsayı olması gerekmektedir.\n",
    "\n",
    "📌 .array() kullanarak boş bir dizi oluşturun.\n",
    "\n",
    "📌Veri tipini belirtmek için *dtype* parametresini kullanın."
   ]
  },
  {
   "cell_type": "code",
   "execution_count": 69,
   "metadata": {
    "id": "rhn8VLL5F1io"
   },
   "outputs": [],
   "source": [
    "#Create an empty array with the data type integer\n",
    "data = np.array([],dtype = int)"
   ]
  },
  {
   "cell_type": "markdown",
   "metadata": {
    "id": "RTg7VcXco1pB"
   },
   "source": [
    "###Veri ekleme işlevleri\n",
    "\n",
    "Artık boş diziniz hazır olduğuna göre listelerdeki verileri diziye aktarmanız gerekiyor. Bunun için 2 fonksiyon fonksiyonu yaratırsınız.\n",
    "\n",
    "1.append_names işlevi: \"isimler\" listesini alan ve her ismin indeksini \"veri\" dizisine ekleyen bir işlev.\n",
    "\n",
    "   📌 Dizinler için for döngüsünü ve .append() yöntemini kullanın.\n",
    "\n",
    "2. apend_performans_measures fonksiyonu: Geri kalan listelerden birini alarak çağrı sayısı, ortalama anlaşma büyüklüğü ve gelir gibi satış performansı verilerini \"data\" dizisine ekleyen fonksiyon."
   ]
  },
  {
   "cell_type": "code",
   "execution_count": 70,
   "metadata": {
    "id": "aFt18Yn_Ai48"
   },
   "outputs": [],
   "source": [
    "#Define the append_names function\n",
    "def append_names(names_list):\n",
    "    global data\n",
    "    for i in names_list:\n",
    "        data = np.append(data,names.index(i))"
   ]
  },
  {
   "cell_type": "code",
   "execution_count": 71,
   "metadata": {
    "id": "XZ0xJEnqUCt6"
   },
   "outputs": [],
   "source": [
    "#Define the append_performance_measures function\n",
    "def append_performance_mesasures(feature_list):\n",
    "    global data\n",
    "    data = np.append(data, feature_list)"
   ]
  },
  {
   "cell_type": "markdown",
   "metadata": {
    "id": "JEQ_Il_JFPJR"
   },
   "source": [
    "Verileri diziye eklemek için işlevleri çağırın ve sonucu görmek için diziyi ve şeklini yazdırın.\n",
    "\n",
    "📌 .shape() yöntemini kullanın."
   ]
  },
  {
   "cell_type": "code",
   "execution_count": 72,
   "metadata": {
    "id": "eknqraz75Qj9"
   },
   "outputs": [
    {
     "name": "stdout",
     "output_type": "stream",
     "text": [
      "[    0     1     2     3     4     5     6     7     8     9    10   300\n",
      "    10   500    70   100   100   600   800   200   450    80     8     6\n",
      "    24    32     5    25    25    40    15    10    12  2400    60 12000\n",
      "  2275   500   770  4000  6000   800  1200   500]\n",
      "(44,)\n"
     ]
    }
   ],
   "source": [
    "#Use the append_names and append_sales_performance_measures to add the data\n",
    "append_names(names)\n",
    "append_performance_mesasures(call_numbers)\n",
    "append_performance_mesasures(averadge_deal_sizes)\n",
    "append_performance_mesasures(revenues)\n",
    "\n",
    "\n",
    "#Print the array and its shape to see the result\n",
    "print(data)\n",
    "print(data.shape)"
   ]
  },
  {
   "cell_type": "markdown",
   "metadata": {
    "id": "PrHY03X6C94s"
   },
   "source": [
    "###Diziyi yeniden şekillendirin\n",
    "\n",
    "Ancak bu şekilde diziniz pek yapılandırılmış değil. Onunla daha iyi çalışabilmek için 2 boyutlu bir diziye ihtiyacınız var. Orijinal veriler, her biri 11 değere sahip 4 listeden oluşuyordu. Yani \"data\" dizisinin 4 satırı ve 11 sütunu olması gerekir. Daha sonra sonucu yazdırın.\n",
    "\n",
    "📌 Dizideki değerleri yeniden düzenlemek için .reshape() yöntemini kullanın.\n"
   ]
  },
  {
   "cell_type": "code",
   "execution_count": 73,
   "metadata": {
    "id": "__2N4NZB5k3Q"
   },
   "outputs": [
    {
     "name": "stdout",
     "output_type": "stream",
     "text": [
      "[[    0     1     2     3     4     5     6     7     8     9    10]\n",
      " [  300    10   500    70   100   100   600   800   200   450    80]\n",
      " [    8     6    24    32     5    25    25    40    15    10    12]\n",
      " [ 2400    60 12000  2275   500   770  4000  6000   800  1200   500]]\n",
      "(4, 11)\n"
     ]
    }
   ],
   "source": [
    "#Use the .reshape() method to change the array structure to 4 rows and 11 columns\n",
    "data = data.reshape(4,11)\n",
    "\n",
    "#Print the resulting array and its shape\n",
    "print(data)\n",
    "print(data.shape)"
   ]
  },
  {
   "cell_type": "markdown",
   "metadata": {
    "id": "-JgrV_l7MIwQ"
   },
   "source": [
    "###Değerlere erişme\n",
    "\n",
    "Dizinin içinde değerlere farklı yollardan erişebilirsiniz.\n",
    "\n",
    "1. Her satırı ayrı ayrı yazdırın.\n",
    "\n",
    "   📌Erişmek istediğiniz satırın dizi adını ve indeksini yazın.\n"
   ]
  },
  {
   "cell_type": "code",
   "execution_count": 74,
   "metadata": {
    "id": "7IwKRbzORnjA"
   },
   "outputs": [
    {
     "name": "stdout",
     "output_type": "stream",
     "text": [
      "[ 0  1  2  3  4  5  6  7  8  9 10]\n"
     ]
    }
   ],
   "source": [
    "#Print the name indexes\n",
    "print(data[0])"
   ]
  },
  {
   "cell_type": "code",
   "execution_count": 75,
   "metadata": {
    "id": "4TZ-6AI3AJ3k"
   },
   "outputs": [
    {
     "name": "stdout",
     "output_type": "stream",
     "text": [
      "[300  10 500  70 100 100 600 800 200 450  80]\n"
     ]
    }
   ],
   "source": [
    "#Print the number of calls\n",
    "print(data[1])"
   ]
  },
  {
   "cell_type": "code",
   "execution_count": 76,
   "metadata": {
    "id": "6AwKKNcVP-Z4"
   },
   "outputs": [
    {
     "name": "stdout",
     "output_type": "stream",
     "text": [
      "[ 8  6 24 32  5 25 25 40 15 10 12]\n"
     ]
    }
   ],
   "source": [
    "#Print the average deal sizes\n",
    "print(data[2])"
   ]
  },
  {
   "cell_type": "code",
   "execution_count": 77,
   "metadata": {
    "id": "A0XcKZpKQRnI"
   },
   "outputs": [
    {
     "name": "stdout",
     "output_type": "stream",
     "text": [
      "[ 2400    60 12000  2275   500   770  4000  6000   800  1200   500]\n"
     ]
    }
   ],
   "source": [
    "#Print the revenues \n",
    "print(data[3])"
   ]
  },
  {
   "cell_type": "markdown",
   "metadata": {
    "id": "vwggtzzeAuGX"
   },
   "source": [
    "2. Belirli bir değeri yazdırın.\n",
    "\n",
    "   📌 Erişmek istediğiniz değerin satırının ve sütununun indeksini verin.\n",
    "   Örneğin Ellen'ın elde ettiği geliri elde etmek için 3. satır ve 7. sütundaki değeri belirtin."
   ]
  },
  {
   "cell_type": "code",
   "execution_count": 78,
   "metadata": {
    "id": "qkHN7yCiSs7z"
   },
   "outputs": [
    {
     "name": "stdout",
     "output_type": "stream",
     "text": [
      "6000\n"
     ]
    }
   ],
   "source": [
    "#Print the revenue generated by Ellen\n",
    "print(data[3,7])"
   ]
  },
  {
   "cell_type": "markdown",
   "metadata": {
    "id": "HpcNsSjVVJ76"
   },
   "source": [
    "###Verileri analiz etme\n",
    "\n",
    "Harika, diziniz hazır!\n",
    "\n",
    "Satış ekibinin bir çalışanın performans puanını hesaplamak için kullandıkları bir formül vardır.\n",
    "\n",
    "\n",
    "\\begin{align}\n",
    "        \\text{Performance} = \\frac{\\text{Average deal size x Revenue}}{\\text{Number of calls}}\n",
    "    \\end{align}\n",
    "\n",
    "📌Bu formülü uygulamak için “hesaplama_performansı” adında bir fonksiyon oluşturun. Giriş olarak çalışanın adını almalıdır."
   ]
  },
  {
   "cell_type": "code",
   "execution_count": 79,
   "metadata": {
    "id": "UoB-hSG02lmJ"
   },
   "outputs": [],
   "source": [
    "#Define the function calculate_performance\n",
    "def calculate_performance(employee_name):\n",
    "    idx = names.index(employee_name)\n",
    "    number_of_calls = data[1,idx]\n",
    "    avg_deal_size = data[2,idx]\n",
    "    revenue = data[3,idx]\n",
    "    \n",
    "    score = ((avg_deal_size * revenue)/number_of_calls)\n",
    "    return score"
   ]
  },
  {
   "cell_type": "markdown",
   "metadata": {
    "id": "BJp7Qgxv5cVX"
   },
   "source": [
    "###Denemek\n",
    "\n",
    "Ellen'ın performans puanını kontrol edip sonucu yazdıralım."
   ]
  },
  {
   "cell_type": "code",
   "execution_count": 80,
   "metadata": {
    "id": "kd2J09dg6n4i"
   },
   "outputs": [
    {
     "name": "stdout",
     "output_type": "stream",
     "text": [
      "300.0\n"
     ]
    }
   ],
   "source": [
    "#Use the calculate performance function to print Ellen's performance\n",
    "print(calculate_performance(\"Ellen\"))"
   ]
  },
  {
   "cell_type": "markdown",
   "metadata": {
    "id": "4zUQIn2s7wwy"
   },
   "source": [
    "###Her çalışanın performansını hesaplayın\n",
    "Artık her çalışanın performans puanını hesaplayıp bu puanları bir listeye eklemeniz gerekiyor.\n",
    "\n",
    "📌 Puanları tutmak için boş bir \"performans_skorları\" listesi oluşturun.\n",
    "\n",
    "📌 Puanları tamsayı tipi verilere dönüştürmek ve bunu \"s Performance_scores\" listesine eklemek için bir for döngüsü kullanın."
   ]
  },
  {
   "cell_type": "code",
   "execution_count": 81,
   "metadata": {
    "id": "xTroGqo745AO"
   },
   "outputs": [],
   "source": [
    "#Calculate the performance of each employee\n",
    "performance_scores = []\n",
    "for name in names:\n",
    "    score = int(calculate_performance(name))\n",
    "    performance_scores.append(score)"
   ]
  },
  {
   "cell_type": "markdown",
   "metadata": {
    "id": "JEjPMpP7FvOw"
   },
   "source": [
    "###Puanları \"veri\" dizisine ekleyin\n",
    "\n",
    "Daha sonra, puanları \"veri\" dizinize eklemeniz ve sonucu yazdırmanız gerekir.\n",
    "\n",
    "📌 \"performans_scores\" listesini \"data\" dizisine eklemek için .concatenate() yöntemini kullanın."
   ]
  },
  {
   "cell_type": "code",
   "execution_count": 82,
   "metadata": {
    "id": "zm4Zbzl9-1n-"
   },
   "outputs": [
    {
     "name": "stdout",
     "output_type": "stream",
     "text": [
      "[[    0     1     2     3     4     5     6     7     8     9    10]\n",
      " [  300    10   500    70   100   100   600   800   200   450    80]\n",
      " [    8     6    24    32     5    25    25    40    15    10    12]\n",
      " [ 2400    60 12000  2275   500   770  4000  6000   800  1200   500]\n",
      " [   64    36   576  1040    25   192   166   300    60    26    75]]\n"
     ]
    }
   ],
   "source": [
    "#Add the \"performance_scores\" list to the \"data\" array\n",
    "data = np.concatenate((data,[performance_scores]), axis = 0)\n",
    "\n",
    "#Print the resulting array\n",
    "print(data)"
   ]
  },
  {
   "cell_type": "markdown",
   "metadata": {
    "id": "oWMMtqfDUZVs"
   },
   "source": [
    "###En iyi ve en kötü performans gösteren çalışanları bulun\n",
    "\n",
    "Son olarak, en iyi ve en kötü performans gösteren çalışanları belirlemeniz gerekir.\n",
    "\n",
    "📌 En iyi ve en kötü performans gösteren çalışanların endeksini bulmak için .argmax() ve .argmin() yöntemlerini kullanın."
   ]
  },
  {
   "cell_type": "code",
   "execution_count": 83,
   "metadata": {
    "id": "58fNLhRsQ18I"
   },
   "outputs": [
    {
     "name": "stdout",
     "output_type": "stream",
     "text": [
      "Best Performance Employee: Celine\n",
      "Woerst Performance Employee: Sue\n"
     ]
    }
   ],
   "source": [
    "#Use .argmax() and .argmin() methods to determine the best and worst performing employees\n",
    "idx_best_employee = np.argmax(data[4])\n",
    "idx_worst_employee = np.argmin((data[4]))\n",
    "#Print out the results\n",
    "print(f\"Best Performance Employee: {names[idx_best_employee]}\")\n",
    "print(f\"Woerst Performance Employee: {names[idx_worst_employee]}\")"
   ]
  },
  {
   "cell_type": "code",
   "execution_count": null,
   "metadata": {},
   "outputs": [],
   "source": []
  },
  {
   "cell_type": "code",
   "execution_count": null,
   "metadata": {},
   "outputs": [],
   "source": []
  }
 ],
 "metadata": {
  "colab": {
   "collapsed_sections": [],
   "name": "Guided_project_4_updated.ipynb",
   "provenance": []
  },
  "kernelspec": {
   "display_name": "Python 3 (ipykernel)",
   "language": "python",
   "name": "python3"
  },
  "language_info": {
   "codemirror_mode": {
    "name": "ipython",
    "version": 3
   },
   "file_extension": ".py",
   "mimetype": "text/x-python",
   "name": "python",
   "nbconvert_exporter": "python",
   "pygments_lexer": "ipython3",
   "version": "3.11.2"
  }
 },
 "nbformat": 4,
 "nbformat_minor": 1
}
