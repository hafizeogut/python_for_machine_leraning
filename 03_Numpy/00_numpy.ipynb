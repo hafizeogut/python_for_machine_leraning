{
 "cells": [
  {
   "cell_type": "code",
   "execution_count": 1,
   "id": "0d3bd3ea",
   "metadata": {},
   "outputs": [],
   "source": [
    "import numpy as np"
   ]
  },
  {
   "cell_type": "code",
   "execution_count": 3,
   "id": "0461f151",
   "metadata": {},
   "outputs": [],
   "source": [
    "array = np.array([1,2,3,4,6])"
   ]
  },
  {
   "cell_type": "code",
   "execution_count": 6,
   "id": "b61ec101",
   "metadata": {},
   "outputs": [
    {
     "name": "stdout",
     "output_type": "stream",
     "text": [
      "<class 'numpy.ndarray'>\n"
     ]
    }
   ],
   "source": [
    "print(type(array))"
   ]
  },
  {
   "cell_type": "code",
   "execution_count": 7,
   "id": "4152fd34",
   "metadata": {},
   "outputs": [],
   "source": [
    "revenues = [2000,300,400,500, 6500,3100 ,31000]"
   ]
  },
  {
   "cell_type": "code",
   "execution_count": 8,
   "id": "2a0508fb",
   "metadata": {},
   "outputs": [
    {
     "name": "stdout",
     "output_type": "stream",
     "text": [
      "43800\n",
      "Executaion Time:  1697226423.9850354\n"
     ]
    }
   ],
   "source": [
    "import time\n",
    "inital_time =time.time()\n",
    "\n",
    "summ = 0\n",
    "\n",
    "for i in revenues:\n",
    "    summ += i\n",
    "\n",
    "print(summ)\n",
    "termination_time = time.time()\n",
    "\n",
    "print(\"Executaion Time: \",termination_time)"
   ]
  },
  {
   "cell_type": "code",
   "execution_count": 10,
   "id": "87d935d5",
   "metadata": {},
   "outputs": [
    {
     "name": "stdout",
     "output_type": "stream",
     "text": [
      "43800\n",
      "Executaion Time:  0.000997781753540039\n"
     ]
    }
   ],
   "source": [
    "array = np.array(revenues)\n",
    "initial_time1 = time.time()# Bu satır, ölçmek istediğiniz işlemi yürütmeye başlamadan hemen önce geçerli zamanı saniye cinsinden (kayan noktalı sayı olarak) kaydeder.\n",
    "\n",
    "summ = array.sum()# NumPy dizisindeki tüm öğelerin toplamını hesaplar array. NumPy dizisinin yöntemi sum(), elemanlarının toplamını hesaplamanın etkili bir yoludur.\n",
    "print(summ)\n",
    "termination_time = time.time()\n",
    "\n",
    "print(\"Executaion Time: \",termination_time - initial_time1)"
   ]
  },
  {
   "cell_type": "code",
   "execution_count": 14,
   "id": "ce2e419b",
   "metadata": {},
   "outputs": [
    {
     "name": "stdout",
     "output_type": "stream",
     "text": [
      "['Ben', 500, 'Jake', 'Liz', 6000]\n"
     ]
    }
   ],
   "source": [
    "x = [\"Ben\", 500 ,\"Jake\",\"Liz\",6000]\n",
    "print(x)"
   ]
  },
  {
   "cell_type": "code",
   "execution_count": 17,
   "id": "340125ca",
   "metadata": {},
   "outputs": [
    {
     "name": "stdout",
     "output_type": "stream",
     "text": [
      "<class 'str'>\n",
      "<class 'int'>\n",
      "<class 'str'>\n",
      "<class 'str'>\n",
      "<class 'int'>\n"
     ]
    }
   ],
   "source": [
    "for i in x:\n",
    "    print(type(i))"
   ]
  },
  {
   "cell_type": "code",
   "execution_count": 23,
   "id": "71572bd6",
   "metadata": {},
   "outputs": [
    {
     "name": "stdout",
     "output_type": "stream",
     "text": [
      "[[1 2 3]\n",
      " [4 5 6]]\n"
     ]
    }
   ],
   "source": [
    "array3 = np.array([[1,2,3], [4,5,6]])\n",
    "print(array3)"
   ]
  },
  {
   "cell_type": "code",
   "execution_count": 24,
   "id": "b576e86a",
   "metadata": {},
   "outputs": [
    {
     "data": {
      "text/plain": [
       "2"
      ]
     },
     "execution_count": 24,
     "metadata": {},
     "output_type": "execute_result"
    }
   ],
   "source": [
    "array3.ndim"
   ]
  },
  {
   "cell_type": "code",
   "execution_count": 25,
   "id": "3e66ef21",
   "metadata": {},
   "outputs": [
    {
     "data": {
      "text/plain": [
       "(2, 3)"
      ]
     },
     "execution_count": 25,
     "metadata": {},
     "output_type": "execute_result"
    }
   ],
   "source": [
    "array3.shape"
   ]
  },
  {
   "cell_type": "code",
   "execution_count": 26,
   "id": "a7294e07",
   "metadata": {},
   "outputs": [
    {
     "data": {
      "text/plain": [
       "6"
      ]
     },
     "execution_count": 26,
     "metadata": {},
     "output_type": "execute_result"
    }
   ],
   "source": [
    "array3.size"
   ]
  },
  {
   "cell_type": "code",
   "execution_count": null,
   "id": "15f4faad",
   "metadata": {},
   "outputs": [],
   "source": []
  }
 ],
 "metadata": {
  "kernelspec": {
   "display_name": "Python 3 (ipykernel)",
   "language": "python",
   "name": "python3"
  },
  "language_info": {
   "codemirror_mode": {
    "name": "ipython",
    "version": 3
   },
   "file_extension": ".py",
   "mimetype": "text/x-python",
   "name": "python",
   "nbconvert_exporter": "python",
   "pygments_lexer": "ipython3",
   "version": "3.11.2"
  }
 },
 "nbformat": 4,
 "nbformat_minor": 5
}
