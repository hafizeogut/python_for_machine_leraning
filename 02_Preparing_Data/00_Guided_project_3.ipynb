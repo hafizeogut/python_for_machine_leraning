{
 "cells": [
  {
   "cell_type": "markdown",
   "id": "15177c1c",
   "metadata": {
    "id": "15177c1c"
   },
   "source": [
    "#Bölüm 3: Veri temizleme alıştırması\n",
    "\n",
    "### Satış departmanı performans analizi\n",
    "\n",
    "İK departmanı, satış departmanındaki çalışanların performansını analiz etmek istiyor.\n",
    "\n",
    "### Veri Okuma\n",
    "Rachel, gerekli tüm bilgileri içeren bir çalışan_gelir.txt metin dosyası yazdı ancak gerekli bilgileri çıkarmak için yardıma ihtiyacı var.\n",
    "\n",
    "Employee_revenue dosyasını çalışma dizinine yükleyerek başlayın.\n",
    "\n",
    "📌 Metin dosyasını okuma modunda açmak ve onu \"data\" değişkenine atamak için .read() yöntemini kullanın."
   ]
  },
  {
   "cell_type": "code",
   "execution_count": 226,
   "id": "da79a8da",
   "metadata": {
    "colab": {
     "base_uri": "https://localhost:8080/",
     "height": 17
    },
    "id": "da79a8da",
    "outputId": "de60b8cb-3977-4a43-df3a-4529cc28dfae"
   },
   "outputs": [
    {
     "name": "stdout",
     "output_type": "stream",
     "text": [
      "  Ben made 300 calls and generated 2400 dollars last Month with an 8$ average deal size.  \n",
      "omer called 10 times and Sold 2 courses generated 60 dollars last month with a 6$ average deal size.\n",
      "   KAren called 500 people and achieved success by GETting 24$ average deal size, got 12000 dollars revenue.     \n",
      "Celine with 70 calls, made 2275 dollars and 32$ average deal size IN the previous month.  \n",
      "     Sue called 100 people and earned 500 Dollars in REvenue and an AVERAGE DEAL SIZE of 5$ Last month.\n",
      "Bora called 100 people generated 770 dollars last month, his average deal size was 25$.  \n",
      "Rose made 600 phone calls and GENERATING 4000 dollars a past month 25$ average deal SIZE. \n",
      "Ellen made 800 calls and generated 6000 dollars a prior mONTH and reached 40$ the average deal size. \n",
      " bob made 200 phone calls, helped to make a proGress and generated 800 dollars LAST MONTH and gaining 15$ average deal size.\n",
      "Taylor, with 450 calls generated 1200 dollars in revenue pASt month, and the average deal size was 10$. \n",
      "  JuDE made 80 calls and earned 500 dollars for the company last month, her average deal size was 12$.\n",
      "\n"
     ]
    }
   ],
   "source": [
    "#Open the file in read mode\n",
    "file = open(\"employee_revenue.txt\", \"r\")\n",
    "data = file.read()\n",
    "file.close()\n",
    "print(data)\n"
   ]
  },
  {
   "cell_type": "code",
   "execution_count": 227,
   "id": "75a5de52",
   "metadata": {
    "id": "75a5de52"
   },
   "outputs": [
    {
     "name": "stdout",
     "output_type": "stream",
     "text": [
      "  Ben made 300 calls and generated 2400 dollars last Month with an 8$ average deal size.  \n",
      "omer called 10 times and Sold 2 courses generated 60 dollars last month with a 6$ average deal size.\n",
      "   KAren called 500 people and achieved success by GETting 24$ average deal size, got 12000 dollars revenue.     \n",
      "Celine with 70 calls, made 2275 dollars and 32$ average deal size IN the previous month.  \n",
      "     Sue called 100 people and earned 500 Dollars in REvenue and an AVERAGE DEAL SIZE of 5$ Last month.\n",
      "Bora called 100 people generated 770 dollars last month, his average deal size was 25$.  \n",
      "Rose made 600 phone calls and GENERATING 4000 dollars a past month 25$ average deal SIZE. \n",
      "Ellen made 800 calls and generated 6000 dollars a prior mONTH and reached 40$ the average deal size. \n",
      " bob made 200 phone calls, helped to make a proGress and generated 800 dollars LAST MONTH and gaining 15$ average deal size.\n",
      "Taylor, with 450 calls generated 1200 dollars in revenue pASt month, and the average deal size was 10$. \n",
      "  JuDE made 80 calls and earned 500 dollars for the company last month, her average deal size was 12$.\n",
      "\n"
     ]
    }
   ],
   "source": [
    "#Print the data\n",
    "print(data)\n",
    "file.close()"
   ]
  },
  {
   "cell_type": "markdown",
   "id": "33d4f7ef",
   "metadata": {
    "id": "33d4f7ef"
   },
   "source": [
    "### Veri temizleme\n",
    "\n",
    "Bu satırlardan verilerin temizlenmesi ve bilgilerin çıkarılması gerektiğini görebilirsiniz.\n",
    "\n",
    "Verileri temizleyebilmek için metni satırlara ayırmanız gerekir.\n",
    "\n",
    "📌 .splitlines() yöntemini kullanın."
   ]
  },
  {
   "cell_type": "code",
   "execution_count": 228,
   "id": "9a1a651d",
   "metadata": {
    "id": "9a1a651d"
   },
   "outputs": [
    {
     "name": "stdout",
     "output_type": "stream",
     "text": [
      "['  Ben made 300 calls and generated 2400 dollars last Month with an 8$ average deal size.  ', 'omer called 10 times and Sold 2 courses generated 60 dollars last month with a 6$ average deal size.', '   KAren called 500 people and achieved success by GETting 24$ average deal size, got 12000 dollars revenue.     ', 'Celine with 70 calls, made 2275 dollars and 32$ average deal size IN the previous month.  ', '     Sue called 100 people and earned 500 Dollars in REvenue and an AVERAGE DEAL SIZE of 5$ Last month.', 'Bora called 100 people generated 770 dollars last month, his average deal size was 25$.  ', 'Rose made 600 phone calls and GENERATING 4000 dollars a past month 25$ average deal SIZE. ', 'Ellen made 800 calls and generated 6000 dollars a prior mONTH and reached 40$ the average deal size. ', ' bob made 200 phone calls, helped to make a proGress and generated 800 dollars LAST MONTH and gaining 15$ average deal size.', 'Taylor, with 450 calls generated 1200 dollars in revenue pASt month, and the average deal size was 10$. ', '  JuDE made 80 calls and earned 500 dollars for the company last month, her average deal size was 12$.']\n"
     ]
    }
   ],
   "source": [
    "#Seperate the data into lines ;\n",
    "lines = data.splitlines()\n",
    "print(lines)"
   ]
  },
  {
   "cell_type": "markdown",
   "id": "CKkeig2poz7w",
   "metadata": {
    "id": "CKkeig2poz7w"
   },
   "source": [
    "### Veriyi satır satır temizleyin\n",
    "\n",
    "İlk satırın verilerini temizlemeye başlayın.\n",
    "\n",
    "📌 Dizenin kenarlarındaki boşlukları kaldırmak için .strip() yöntemini kullanın."
   ]
  },
  {
   "cell_type": "code",
   "execution_count": 229,
   "id": "2332622c",
   "metadata": {
    "id": "2332622c"
   },
   "outputs": [],
   "source": [
    "#Take the first line\n",
    "string = lines[0]"
   ]
  },
  {
   "cell_type": "code",
   "execution_count": 230,
   "id": "26219c0d",
   "metadata": {
    "id": "26219c0d"
   },
   "outputs": [
    {
     "name": "stdout",
     "output_type": "stream",
     "text": [
      "Ben made 300 calls and generated 2400 dollars last Month with an 8$ average deal size.\n"
     ]
    }
   ],
   "source": [
    "#Remove the whitespaces from the edges\n",
    "string = string.strip(\" \")\n",
    "print(string)"
   ]
  },
  {
   "cell_type": "markdown",
   "id": "ed90bfc6",
   "metadata": {
    "id": "ed90bfc6"
   },
   "source": [
    "Daha sonra, büyük harf kullanımı sorunlarını düzeltmeniz gerekir.\n",
    "\n",
    "📌 Metni küçük harfe dönüştürmek için .lower() yöntemini kullanın.\n",
    "\n",
    "📌 Daha sonra ilk harfi büyük yapmak için .capitalize() yöntemini kullanın."
   ]
  },
  {
   "cell_type": "code",
   "execution_count": 231,
   "id": "ef8bca74",
   "metadata": {
    "id": "ef8bca74"
   },
   "outputs": [
    {
     "data": {
      "text/plain": [
       "'ben made 300 calls and generated 2400 dollars last month with an 8$ average deal size.'"
      ]
     },
     "execution_count": 231,
     "metadata": {},
     "output_type": "execute_result"
    }
   ],
   "source": [
    "#Convert the string to lowercase\n",
    "string = string.lower()\n",
    "string"
   ]
  },
  {
   "cell_type": "code",
   "execution_count": 232,
   "id": "d4be9443",
   "metadata": {
    "id": "d4be9443"
   },
   "outputs": [
    {
     "data": {
      "text/plain": [
       "'Ben made 300 calls and generated 2400 dollars last month with an 8$ average deal size.'"
      ]
     },
     "execution_count": 232,
     "metadata": {},
     "output_type": "execute_result"
    }
   ],
   "source": [
    "#Capitalize the first character\n",
    "string = string.capitalize()\n",
    "string"
   ]
  },
  {
   "cell_type": "markdown",
   "id": "f89b01c4",
   "metadata": {
    "id": "f89b01c4"
   },
   "source": [
    "\n",
    "### Bilgi Çıkarma\n",
    "\n",
    "Bilgiyi çıkarmak için cümleyi kelimelere bölmeniz gerekir.\n",
    "\n",
    "📌 .split() yöntemini kullanın."
   ]
  },
  {
   "cell_type": "code",
   "execution_count": 233,
   "id": "04ede2fd",
   "metadata": {
    "id": "04ede2fd"
   },
   "outputs": [
    {
     "data": {
      "text/plain": [
       "['Ben',\n",
       " 'made',\n",
       " '300',\n",
       " 'calls',\n",
       " 'and',\n",
       " 'generated',\n",
       " '2400',\n",
       " 'dollars',\n",
       " 'last',\n",
       " 'month',\n",
       " 'with',\n",
       " 'an',\n",
       " '8$',\n",
       " 'average',\n",
       " 'deal',\n",
       " 'size.']"
      ]
     },
     "execution_count": 233,
     "metadata": {},
     "output_type": "execute_result"
    }
   ],
   "source": [
    "#Split the sentece into words\n",
    "split_string = string.split(\" \")\n",
    "split_string"
   ]
  },
  {
   "cell_type": "markdown",
   "id": "9138eb5b",
   "metadata": {
    "id": "9138eb5b"
   },
   "source": [
    "\n",
    "Listedeki ilk öğenin isim, üçüncü öğenin ise çağrı sayısı olduğunu fark etmişsinizdir.\n",
    "\n",
    "📌 Çağrıların adını ve sayısını çıkarmak için indeksleri kullanın"
   ]
  },
  {
   "cell_type": "code",
   "execution_count": 234,
   "id": "897c59e5",
   "metadata": {
    "id": "897c59e5"
   },
   "outputs": [
    {
     "data": {
      "text/plain": [
       "'Ben'"
      ]
     },
     "execution_count": 234,
     "metadata": {},
     "output_type": "execute_result"
    }
   ],
   "source": [
    "#Use the index 0 to access the name element\n",
    "name = split_string[0]\n",
    "name"
   ]
  },
  {
   "cell_type": "code",
   "execution_count": 235,
   "id": "98103332",
   "metadata": {
    "id": "98103332"
   },
   "outputs": [
    {
     "data": {
      "text/plain": [
       "'300'"
      ]
     },
     "execution_count": 235,
     "metadata": {},
     "output_type": "execute_result"
    }
   ],
   "source": [
    "#Use the index 2 to access the number of calls element\n",
    "call_number = split_string[2]\n",
    "call_number"
   ]
  },
  {
   "cell_type": "markdown",
   "id": "etif7Kb3tEUC",
   "metadata": {
    "id": "etif7Kb3tEUC"
   },
   "source": [
    "Şimdiye kadar, çok iyi!\n",
    "\n",
    "Ama gördüğünüz gibi 7. elementten sonra cümle sırası aynı değil.\n",
    "\n",
    "Ortalama anlaşma boyutunu ortaya çıkarmak için farklı bir yaklaşım bulmanız gerekir. İlgili öğeyi bulmak için \"$\" işaretini kullanabilirsiniz.\n",
    "\n",
    "📌 \"$\" işaretini içeren öğeyi bulmak için listenin üzerinde dolaşın.\n",
    "\n",
    "📌 Daha sonra dizeyi sayıya ve $ işaretine bölmek için .split() yöntemini kullanın."
   ]
  },
  {
   "cell_type": "code",
   "execution_count": 236,
   "id": "443a9ddf",
   "metadata": {
    "id": "443a9ddf"
   },
   "outputs": [
    {
     "data": {
      "text/plain": [
       "'8'"
      ]
     },
     "execution_count": 236,
     "metadata": {},
     "output_type": "execute_result"
    }
   ],
   "source": [
    "#Find the element with the \"$\" sign\n",
    "for i in split_string:\n",
    "  #Divide the number from it\n",
    "    if \"$\" in i:\n",
    "        average_deal_size = i.split(\"$\")[0]\n",
    "#Print the average deal size\n",
    "average_deal_size #dolar bulunan ifadenin önünde 8 var"
   ]
  },
  {
   "cell_type": "markdown",
   "id": "1332df7e",
   "metadata": {
    "id": "1332df7e"
   },
   "source": [
    "Benzer şekilde, \"dolar\" dizesinden hemen önceki öğe olan geliri elde etmek için \"dolar\" dizesini kullanabiliriz.\n",
    "\n",
    "📌 \"Dolar\" öğesinin indeksini tanımlamak için .index() yöntemini kullanın.\n",
    "\n",
    "📌 Daha sonra geliri belirlemek ve çıkarmak için bu endeksi kullanın."
   ]
  },
  {
   "cell_type": "code",
   "execution_count": 237,
   "id": "a00945b0",
   "metadata": {
    "id": "a00945b0"
   },
   "outputs": [
    {
     "data": {
      "text/plain": [
       "7"
      ]
     },
     "execution_count": 237,
     "metadata": {},
     "output_type": "execute_result"
    }
   ],
   "source": [
    "#Find the index of element \"dollars\"\n",
    "dollars_index = split_string.index(\"dollars\")\n",
    "dollars_index"
   ]
  },
  {
   "cell_type": "code",
   "execution_count": 238,
   "id": "c663bd03",
   "metadata": {
    "id": "c663bd03"
   },
   "outputs": [
    {
     "data": {
      "text/plain": [
       "6"
      ]
     },
     "execution_count": 238,
     "metadata": {},
     "output_type": "execute_result"
    }
   ],
   "source": [
    "#Gelir öğesinin endeksini belirlemek için endeksten birini çıkarın\n",
    "revenue_index = dollars_index - 1\n",
    "revenue_index"
   ]
  },
  {
   "cell_type": "code",
   "execution_count": 239,
   "id": "2831e072",
   "metadata": {
    "id": "2831e072"
   },
   "outputs": [
    {
     "data": {
      "text/plain": [
       "'2400'"
      ]
     },
     "execution_count": 239,
     "metadata": {},
     "output_type": "execute_result"
    }
   ],
   "source": [
    "#Extract the revenue\n",
    "revenue =split_string[revenue_index]\n",
    "revenue"
   ]
  },
  {
   "cell_type": "markdown",
   "id": "537ed4c2",
   "metadata": {
    "id": "537ed4c2"
   },
   "source": [
    "Great! You extracted all necessary information.\n",
    "\n",
    "📌 Print the information and check the types of the data."
   ]
  },
  {
   "cell_type": "code",
   "execution_count": 240,
   "id": "ace2c99f",
   "metadata": {
    "id": "ace2c99f"
   },
   "outputs": [
    {
     "name": "stdout",
     "output_type": "stream",
     "text": [
      "Name Ben\n",
      "Number of calls: 300\n",
      "Average deal size 8\n",
      "Revenue  2400\n"
     ]
    }
   ],
   "source": [
    "#Çıkarılan bilgilerin çıktısını alın\n",
    "print(\"Name\",name)\n",
    "print(\"Number of calls:\", call_number)\n",
    "print(\"Average deal size\",average_deal_size)\n",
    "print(\"Revenue \",revenue)\n"
   ]
  },
  {
   "cell_type": "code",
   "execution_count": 241,
   "id": "SwAyLOAInasY",
   "metadata": {
    "id": "SwAyLOAInasY"
   },
   "outputs": [
    {
     "name": "stdout",
     "output_type": "stream",
     "text": [
      "Name <class 'str'>\n",
      "Number of calls: <class 'str'>\n",
      "Average deal size <class 'str'>\n",
      "Revenue  <class 'str'>\n"
     ]
    }
   ],
   "source": [
    "#Türleri kontrol et\n",
    "print(\"Name\",type(name))\n",
    "print(\"Number of calls:\", type(call_number))\n",
    "print(\"Average deal size\",type(average_deal_size))\n",
    "print(\"Revenue \",type(revenue))"
   ]
  },
  {
   "cell_type": "markdown",
   "id": "08f5b5fd",
   "metadata": {
    "id": "08f5b5fd"
   },
   "source": [
    "\n",
    "Gördüğünüz gibi tüm veriler için tür dizemiz var ancak ortalama anlaşma boyutu, çağrı sayısı ve gelirin tam sayı olması gerekiyor.\n",
    "\n",
    "📌 İnt() fonksiyonunu kullanarak verileri dönüştürün ve tekrar kontrol edin."
   ]
  },
  {
   "cell_type": "code",
   "execution_count": 242,
   "id": "5f42e3f0",
   "metadata": {
    "colab": {
     "base_uri": "https://localhost:8080/",
     "height": 17
    },
    "id": "5f42e3f0",
    "outputId": "acab915b-2771-4de7-aad1-093b39f4b058"
   },
   "outputs": [],
   "source": [
    "#Ortalama anlaşma boyutu, çağrı sayısı ve gelire ilişkin veri türlerini dönüştürün\n",
    "average_deal_size = int(average_deal_size)\n",
    "call_number = int(call_number)\n",
    "revenue = int(revenue)"
   ]
  },
  {
   "cell_type": "code",
   "execution_count": 243,
   "id": "89dc6fa1",
   "metadata": {
    "id": "89dc6fa1"
   },
   "outputs": [
    {
     "name": "stdout",
     "output_type": "stream",
     "text": [
      "Name <class 'str'>\n",
      "Number of calls: <class 'int'>\n",
      "Average deal size <class 'int'>\n",
      "Revenue  <class 'int'>\n"
     ]
    }
   ],
   "source": [
    "#Print out the information again\n",
    "print(\"Name\",type(name))\n",
    "print(\"Number of calls:\", type(call_number))\n",
    "print(\"Average deal size\",type(average_deal_size))\n",
    "print(\"Revenue \",type(revenue))"
   ]
  },
  {
   "cell_type": "markdown",
   "id": "0b194713",
   "metadata": {
    "id": "0b194713"
   },
   "source": [
    "Artık tüm çalışanların farklı dizelerini içeren listeye tüm yöntemleri ve işlevleri uygulamanız gerekiyor.\n",
    "\n",
    "📌 İsimleri, arama sayısını, ortalama anlaşma boyutlarını ve gelirleri depolamak için boş bir liste oluşturun.\n",
    "\n",
    "📌 Tüm verilerle birlikte listeyi yinelemek için for döngüsünü kullanın.\n",
    "\n",
    "📌Gerekli bilgileri yazdırın."
   ]
  },
  {
   "cell_type": "code",
   "execution_count": 244,
   "id": "5a4aab7e",
   "metadata": {
    "id": "5a4aab7e"
   },
   "outputs": [],
   "source": [
    "#Create empty lists for the names, number of calls, average deal sizes, revenues\n",
    "names = []\n",
    "call_numbers = []\n",
    "average_deal_sizes = []\n",
    "revenues= []"
   ]
  },
  {
   "cell_type": "code",
   "execution_count": 245,
   "id": "2366069b",
   "metadata": {
    "id": "2366069b"
   },
   "outputs": [
    {
     "name": "stdout",
     "output_type": "stream",
     "text": [
      "Names:  ['Ben', 'Omer', 'Karen', 'Celine', 'Sue', 'Bora', 'Rose', 'Ellen', 'Bob', 'Taylor,', 'Jude']\n",
      "Number of calls:  [300, 10, 500, 70, 100, 100, 600, 800, 200, 450, 80]\n",
      "Averadge deal sizes:  [8, 6, 24, 32, 5, 25, 25, 40, 15, 10, 12]\n",
      "Revenues:  [2400, 60, 12000, 2275, 500, 770, 4000, 6000, 800, 1200, 500]\n"
     ]
    }
   ],
   "source": [
    "#Loop over the whole data\n",
    "for employee in lines:\n",
    "    #Clean the string\n",
    "    employee = employee.strip(\" \")\n",
    "    employee = employee.lower()\n",
    "    employee =employee.capitalize()\n",
    "\n",
    "    #Split the clean string\n",
    "    split_employee = employee.split(\" \")\n",
    "    \n",
    "    #Extract the name\n",
    "    name = split_employee[0]\n",
    "    call_number = split_employee[2]\n",
    "    #Extract the average deal size\n",
    "    for i in split_employee:\n",
    "        if \"$\" in i:\n",
    "            average_deal_size = i\n",
    "            break\n",
    "    average_deal_size = average_deal_size.split(\"$\")[0]\n",
    "\n",
    "    #Extract the revenue\n",
    "    dollars_index = split_employee.index(\"dollars\")\n",
    "    revenue_index = dollars_index -1\n",
    "    revenue = split_employee[revenue_index]\n",
    "    \n",
    "    #Convert to the correct data types\n",
    "    average_deal_size = int(average_deal_size)\n",
    "    call_number =int(call_number) \n",
    "    revenue = int(revenue)\n",
    "    \n",
    "    #Append the information to the lists\n",
    "    names.append(name)\n",
    "    call_numbers.append(call_number)\n",
    "    average_deal_sizes.append(average_deal_size )\n",
    "    revenues.append(revenue)\n",
    "\n",
    "#Print out the information\n",
    "print(\"Names: \",names)\n",
    "print(\"Number of calls: \",call_numbers)\n",
    "print(\"Averadge deal sizes: \",average_deal_sizes)\n",
    "print(\"Revenues: \",revenues)"
   ]
  },
  {
   "cell_type": "markdown",
   "id": "4d848787",
   "metadata": {
    "id": "4d848787"
   },
   "source": [
    "Son olarak işlevleri tanımlayarak süreci daha da kolay ve yeniden kullanılabilir hale getirebilirsiniz.\n",
    "\n",
    "📌 \"clean_extract\" fonksiyonunu tanımlayın.\n",
    "\n",
    "📌 Dönen değerleri değişkenlere atayarak kullanın."
   ]
  },
  {
   "cell_type": "code",
   "execution_count": 255,
   "id": "_ipfpGrirCs7",
   "metadata": {
    "colab": {
     "base_uri": "https://localhost:8080/",
     "height": 17
    },
    "id": "_ipfpGrirCs7",
    "outputId": "5c4f5ebd-b114-4b61-e332-49cc94d13f25"
   },
   "outputs": [],
   "source": [
    "#Create empty lists again\n",
    "namess = []\n",
    "call_numberss = []\n",
    "revenuess = []"
   ]
  },
  {
   "cell_type": "code",
   "execution_count": 256,
   "id": "tnFT5Fk2qu_x",
   "metadata": {
    "id": "tnFT5Fk2qu_x"
   },
   "outputs": [],
   "source": [
    "#Define a function to clean and extract the data\n",
    "def clean_extract(lines):\n",
    "    for employee in lines:\n",
    "        employee = employee.strip(\" \")\n",
    "        employee = employee.lower()\n",
    "        employee = employee.capitalize()\n",
    "        \n",
    "        name = split_employee[0]\n",
    "        call_number = split_employee[2]\n",
    "        \n",
    "        for i in split_employee:\n",
    "            if \"$\" in i:\n",
    "                average_deal_size = i\n",
    "                \n",
    "        average_deal_size = average_deal_size.split(\"$\")[0]\n",
    "        \n",
    "        dollars_index = split_employee.index(\"dollars\")\n",
    "        revenue_index = dollars_index - 1\n",
    "        revenue = split_employee[revenue_index]\n",
    "        \n",
    "        average_deal_size = int(average_deal_size)\n",
    "        call_number = int(call_number)\n",
    "        revenue =int(revenue)\n",
    "        \n",
    "        namess.append(name)\n",
    "        call_numberss.append(call_number)\n",
    "        average_deal_sizess.append(average_deal_size)\n",
    "        revenuess.append(revenue)\n",
    "            \n",
    "    return namess,call_numberss,average_deal_sizess,revenuess\n",
    "    "
   ]
  },
  {
   "cell_type": "code",
   "execution_count": 257,
   "id": "13b0fe6b",
   "metadata": {
    "id": "13b0fe6b"
   },
   "outputs": [],
   "source": [
    "#Assign returned values to variables\n",
    "namess,call_numberss,average_deal_sizess,revenuess = clean_extract(lines)"
   ]
  },
  {
   "cell_type": "code",
   "execution_count": 258,
   "id": "44e38957",
   "metadata": {
    "id": "44e38957"
   },
   "outputs": [
    {
     "name": "stdout",
     "output_type": "stream",
     "text": [
      "Names:  ['Jude', 'Jude', 'Jude', 'Jude', 'Jude', 'Jude', 'Jude', 'Jude', 'Jude', 'Jude', 'Jude']\n",
      "Number of calls:  [80, 80, 80, 80, 80, 80, 80, 80, 80, 80, 80]\n",
      "Averadge deal sizes:  [8, 6, 24, 32, 5, 25, 25, 40, 15, 10, 12, 12, 12, 12, 12, 12, 12, 12, 12, 12, 12, 12, 12, 12, 12, 12, 12, 12, 12, 12, 12, 12, 12, 12, 12, 12, 12, 12, 12, 12, 12, 12, 12, 12]\n",
      "Revenues:  [500, 500, 500, 500, 500, 500, 500, 500, 500, 500, 500]\n"
     ]
    }
   ],
   "source": [
    "#Print out the information\n",
    "print(\"Names: \",namess)\n",
    "print(\"Number of calls: \",call_numberss)\n",
    "print(\"Averadge deal sizes: \",average_deal_sizess)\n",
    "print(\"Revenues: \",revenuess)"
   ]
  },
  {
   "cell_type": "markdown",
   "id": "26efe652",
   "metadata": {
    "id": "26efe652"
   },
   "source": [
    "### Performans Analizi Raporu\n",
    "\n",
    "Artık dizeyi temizlediğinize ve işlevi kullanarak tüm bilgileri çıkardığınıza göre, geçen aya ait performans analizi raporu oluşturabilirsiniz.\n",
    "\n",
    "📌 Her çalışana kimlik atayın.\n",
    "\n",
    "📌 Sözlükler oluşturun.\n",
    "\n",
    "📌 Sözlükleri sıralayın.\n",
    "\n"
   ]
  },
  {
   "cell_type": "markdown",
   "id": "ZT7mAK3M5k3W",
   "metadata": {
    "id": "ZT7mAK3M5k3W"
   },
   "source": [
    "Öncelikle kaç çalışanın olduğunu kontrol edin ve kimlikleri atayın.\n",
    "\n",
    "📌 len() ve range() işlevini kullanın.\n"
   ]
  },
  {
   "cell_type": "code",
   "execution_count": 74,
   "id": "f20ff52f",
   "metadata": {
    "id": "f20ff52f"
   },
   "outputs": [
    {
     "name": "stdout",
     "output_type": "stream",
     "text": [
      "16\n"
     ]
    }
   ],
   "source": [
    "#Check the number of employees\n",
    "print(len(names))"
   ]
  },
  {
   "cell_type": "code",
   "execution_count": 75,
   "id": "5c62caf8",
   "metadata": {
    "id": "5c62caf8"
   },
   "outputs": [
    {
     "name": "stdout",
     "output_type": "stream",
     "text": [
      "[0, 1, 2, 3, 4, 5, 6, 7, 8, 9, 10]\n"
     ]
    }
   ],
   "source": [
    "#Generate IDs\n",
    "IDs =list(range(0,11))\n",
    "print(IDs)"
   ]
  },
  {
   "cell_type": "code",
   "execution_count": 76,
   "id": "28cd8ce6",
   "metadata": {
    "id": "28cd8ce6"
   },
   "outputs": [
    {
     "data": {
      "text/plain": [
       "11"
      ]
     },
     "execution_count": 76,
     "metadata": {},
     "output_type": "execute_result"
    }
   ],
   "source": [
    "#Check the number of IDs\n",
    "len(IDs)"
   ]
  },
  {
   "cell_type": "markdown",
   "id": "NKP6Yoto6eqP",
   "metadata": {
    "id": "NKP6Yoto6eqP"
   },
   "source": [
    "Kimlikler hazır olduğunda kimlikleri çalışanlara atamanız gerekir.\n",
    "\n",
    "📌 Çalışanı kimlikle eşleştirmek için zip() işlevini kullanın.\n",
    "\n",
    "📌 Zip nesnesini bir sözlüğe dönüştürün."
   ]
  },
  {
   "cell_type": "code",
   "execution_count": 259,
   "id": "7e56a43f",
   "metadata": {
    "id": "7e56a43f"
   },
   "outputs": [
    {
     "data": {
      "text/plain": [
       "{0: 'Ben',\n",
       " 1: 'Omer',\n",
       " 2: 'Karen',\n",
       " 3: 'Celine',\n",
       " 4: 'Sue',\n",
       " 5: 'Bora',\n",
       " 6: 'Rose',\n",
       " 7: 'Ellen',\n",
       " 8: 'Bob',\n",
       " 9: 'Taylor,',\n",
       " 10: 'Jude'}"
      ]
     },
     "execution_count": 259,
     "metadata": {},
     "output_type": "execute_result"
    }
   ],
   "source": [
    "#Pair the names with the IDs in a dictionary\n",
    "dictionary1 = dict((zip(IDs,names)))\n",
    "dictionary1"
   ]
  },
  {
   "cell_type": "markdown",
   "id": "429d7b7f",
   "metadata": {
    "id": "429d7b7f"
   },
   "source": [
    "Benzer şekilde çalışanlar ve gelirleri için bir sözlük oluşturun."
   ]
  },
  {
   "cell_type": "code",
   "execution_count": 263,
   "id": "aa2c6560",
   "metadata": {
    "id": "aa2c6560"
   },
   "outputs": [
    {
     "data": {
      "text/plain": [
       "{2400: 'Ben',\n",
       " 60: 'Omer',\n",
       " 12000: 'Karen',\n",
       " 2275: 'Celine',\n",
       " 500: 'Jude',\n",
       " 770: 'Bora',\n",
       " 4000: 'Rose',\n",
       " 6000: 'Ellen',\n",
       " 800: 'Bob',\n",
       " 1200: 'Taylor,'}"
      ]
     },
     "execution_count": 263,
     "metadata": {},
     "output_type": "execute_result"
    }
   ],
   "source": [
    "#Pair the names with the revenues\n",
    "dictionary2 = dict((zip(revenues,names)))\n",
    "dictionary2"
   ]
  },
  {
   "cell_type": "markdown",
   "id": "Ou3ne5Vn76N_",
   "metadata": {
    "id": "Ou3ne5Vn76N_"
   },
   "source": [
    "Son olarak en iyi ve en düşük performansa sahip çalışanları bulmanız gerekiyor.\n",
    "\n",
    "📌 Sözlüğü sorted() fonksiyonunu kullanarak artan ve azalan düzende sıralayın.\n"
   ]
  },
  {
   "cell_type": "code",
   "execution_count": 264,
   "id": "d348a929",
   "metadata": {
    "id": "d348a929"
   },
   "outputs": [
    {
     "name": "stdout",
     "output_type": "stream",
     "text": [
      "Omer\n",
      "Jude\n",
      "Bora\n"
     ]
    }
   ],
   "source": [
    "#Find the lowest performing employees (ascending order)\n",
    "sorted_dictionary = sorted(dictionary2)[0:3]\n",
    "for i in sorted_dictionary:\n",
    "    print(dictionary2[i])"
   ]
  },
  {
   "cell_type": "code",
   "execution_count": null,
   "id": "3210f1ad",
   "metadata": {
    "id": "3210f1ad"
   },
   "outputs": [],
   "source": [
    "#Find the best performing employees (descending order)\n",
    "sorted_dictionary1 = sorted(dictionary2)[0:3]"
   ]
  }
 ],
 "metadata": {
  "colab": {
   "collapsed_sections": [],
   "name": "Guided_project_3_updated.ipynb",
   "provenance": []
  },
  "kernelspec": {
   "display_name": "Python 3 (ipykernel)",
   "language": "python",
   "name": "python3"
  },
  "language_info": {
   "codemirror_mode": {
    "name": "ipython",
    "version": 3
   },
   "file_extension": ".py",
   "mimetype": "text/x-python",
   "name": "python",
   "nbconvert_exporter": "python",
   "pygments_lexer": "ipython3",
   "version": "3.11.2"
  }
 },
 "nbformat": 4,
 "nbformat_minor": 5
}
