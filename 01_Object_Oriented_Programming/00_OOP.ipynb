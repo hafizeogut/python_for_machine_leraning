{
 "cells": [
  {
   "cell_type": "markdown",
   "id": "d44ac18b",
   "metadata": {},
   "source": [
    "Sınıflar, nesnelerin (objelerin) tasarımını ve oluşturulmasını tanımlayan bir şablondur.\n",
    "    "
   ]
  },
  {
   "cell_type": "code",
   "execution_count": 1,
   "id": "233d4d90",
   "metadata": {},
   "outputs": [],
   "source": [
    "class Employee():#Çalışan sınıfı\n",
    "    employee_name = \"Ben\" #çalışan siim\n",
    "    department = \"sales\"\n",
    "    starting_year = 2020\n",
    "    salery = 500 #maaş"
   ]
  },
  {
   "cell_type": "code",
   "execution_count": 2,
   "id": "bcffd3e5",
   "metadata": {},
   "outputs": [],
   "source": [
    "myObject = Employee() #sınıfdaki özelli,kler myObject değişkenine atandı.\n"
   ]
  },
  {
   "cell_type": "code",
   "execution_count": 5,
   "id": "de76fcb9",
   "metadata": {},
   "outputs": [
    {
     "name": "stdout",
     "output_type": "stream",
     "text": [
      "Ben\n",
      "sales\n",
      "2020\n",
      "500\n"
     ]
    }
   ],
   "source": [
    "print(myObject.employee_name)\n",
    "print(myObject.department)\n",
    "print(myObject.starting_year)\n",
    "print(myObject.salery) "
   ]
  },
  {
   "cell_type": "markdown",
   "id": "b9ff1f25",
   "metadata": {},
   "source": [
    "Constructor, nesnenin başlangıç durumunu ve özelliklerini ayarlamak için kullanılır.\n",
    "\n",
    "Python'da, bir constructor metodunun adı __init__ olarak tanımlanır. Bu özel metod, sınıfın içinde tanımlanır ve sınıfın her nesnesi oluşturulduğunda otomatik olarak çağrılır. __init__ metodu, self adı verilen bir parametre alır, bu parametre sınıfın kendisini temsil eder ve sınıfın özelliklerine erişim sağlar."
   ]
  },
  {
   "cell_type": "code",
   "execution_count": 10,
   "id": "703742cb",
   "metadata": {},
   "outputs": [],
   "source": [
    "class Employee():\n",
    "    def __init__(self,employee_name,department,starting_year,salary):#Nesne oluştuturken gerekli argümanlar oluşturuldu.\n",
    "        self.employee_name =employee_name#self oluşturulan nesneyi ifade eder\n",
    "        self.department = department\n",
    "        self.starting_year = starting_year\n",
    "        self.salary=salary"
   ]
  },
  {
   "cell_type": "code",
   "execution_count": 11,
   "id": "1948776a",
   "metadata": {},
   "outputs": [],
   "source": [
    "employee_1 = Employee(\"Hafize\",\"Ogut\",2023,85000)"
   ]
  },
  {
   "cell_type": "code",
   "execution_count": 12,
   "id": "a61cc862",
   "metadata": {},
   "outputs": [
    {
     "name": "stdout",
     "output_type": "stream",
     "text": [
      "Hafize\n",
      "Ogut\n",
      "2023\n",
      "85000\n"
     ]
    }
   ],
   "source": [
    "print(employee_1.employee_name)\n",
    "print(employee_1.department)\n",
    "print(employee_1.starting_year)\n",
    "print(employee_1.salary) "
   ]
  },
  {
   "cell_type": "code",
   "execution_count": null,
   "id": "840f62bd",
   "metadata": {},
   "outputs": [],
   "source": []
  }
 ],
 "metadata": {
  "kernelspec": {
   "display_name": "Python 3 (ipykernel)",
   "language": "python",
   "name": "python3"
  },
  "language_info": {
   "codemirror_mode": {
    "name": "ipython",
    "version": 3
   },
   "file_extension": ".py",
   "mimetype": "text/x-python",
   "name": "python",
   "nbconvert_exporter": "python",
   "pygments_lexer": "ipython3",
   "version": "3.11.2"
  }
 },
 "nbformat": 4,
 "nbformat_minor": 5
}
