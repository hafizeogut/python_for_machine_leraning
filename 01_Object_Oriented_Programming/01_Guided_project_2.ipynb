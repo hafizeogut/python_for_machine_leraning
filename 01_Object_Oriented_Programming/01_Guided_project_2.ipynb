{
 "cells": [
  {
   "cell_type": "markdown",
   "metadata": {
    "id": "L2QxMyW_Qs36"
   },
   "source": [
    "#Bölüm 2\n",
    "##Nesne yönelimli programlama\n",
    "\n",
    "Departmanınız, gelecekte genişletilebilecek sağlık sigortası, lojistik ve ticaret şirketlerinin dijitalleştirilmesine yönelik bir test yazılımı hazırlanması yönünde talep alır.\n",
    "\n",
    "Aklınıza bir fikir geliyor: nesne yönelimli programlama. Yaklaşımınız, her şirket için farklı özelliklere ve bazı işlevleri dijitalleştirme yöntemlerine sahip olacak sınıflar oluşturmaktır. \n"
   ]
  },
  {
   "cell_type": "markdown",
   "metadata": {
    "id": "wNu3jDRBTbcE"
   },
   "source": [
    "### Sağlık Sigortası\n",
    "#### Sınıfı tanımlayın\n",
    "Sağlık sigortası şirketiyle başlarsınız.\n",
    "\n",
    "Tamamlayıcı sağlık sigortası kayıt sürecinde yaş, kronik hastalık, gelir gibi farklı değişkenleri dikkate alarak bir sistem oluşturmanız gerekiyor.\n",
    "\n",
    "📌 \"Sağlık Sigortası\" sınıfını oluşturmak için \"sınıf\" anahtar kelimesini kullanın\n",
    "\n",
    "📌 Nesnenin niteliklerini başlatmak için \"__init__\" yöntemini kullanın: self, şirket_adı, kuruluş_yılı, kurucu_adı, şirket_slogan, çalışan_sayısı ve müşteri_sayısı.\n"
   ]
  },
  {
   "cell_type": "markdown",
   "metadata": {
    "id": "jEV9hh49JxGt"
   },
   "source": [
    "### Yöntemleri tanımlayın\n",
    "\n",
    "Daha sonra sınıfın metodlarını tanımlayalım:\n",
    "\n",
    "1. print_report yöntemi: Şirket hakkındaki bilgilerin çıktısını alma yöntemi.\n",
    "\n",
    "  📌 Rapor şu yapıya sahip olmalıdır:\n",
    "\n",
    "  \"*name* şirketi *yıl* yılında kuruldu. Şirketin kurucusu *founder_name*'dir.\n",
    "\n",
    "  Şirket sloganı: *company_slogan*\n",
    "\n",
    "  Çalışan sayısı: *çalışan sayısı*\n",
    "\n",
    "  Müşteri sayısı: *müşteri sayısı*\"\n",
    "\n",
    "2. sup_health_insurance yöntemi: Tamamlayıcı sağlık sigortasına uygunluğu kontrol etmeye yönelik bir yöntem. \"Yaş\", \"kronik_hastalık\" ve \"gelir\" parametreleri dikkate alınmalıdır.\n",
    "\n",
    "  📌 If-else ifadelerini ve mantıksal operatörleri kullanın.\n",
    "\n",
    "3. update_num_clients yöntemi: İstemcilerin öznitelik sayısını güncellemeye yönelik bir yöntem."
   ]
  },
  {
   "cell_type": "code",
   "execution_count": 26,
   "metadata": {
    "id": "jXBwGqV2OkvB"
   },
   "outputs": [],
   "source": [
    "#\"Sağlık Sigortası\" sınıfını tanımlayın\n",
    "#\"Sağlık Sigortası\" sınıfını tanımlayın\n",
    "class HealtInsurance:\n",
    "    #Nesnenin niteliklerini başlat\n",
    "    def __init__(self,company_name,foundation_year,founder_name,company_slogan,num_of_employees,num_of_clients):\n",
    "        self.company_name = company_name\n",
    "        self.foundation_year = foundation_year\n",
    "        self.founder_name = founder_name\n",
    "        self.company_slogan = company_slogan\n",
    "        self.num_of_employees = num_of_employees\n",
    "        self.num_of_clients = num_of_clients \n",
    "\n",
    "    #print_report yöntemini tanımlayın\n",
    "    def print_report(self):\n",
    "        print(f\"\"\"The company {self.company_name} wasfounded in {self.foundation_year}.\n",
    "        The founder of company is {self.founder_name}.\n",
    "        Company slogan: {self.company_slogan}.\n",
    "        Number of Employees:{self.num_of_employees}\n",
    "        Number of clients: {self.num_of_clients}\n",
    "        \"\"\")\n",
    "\n",
    "    #sup_health_insurance yöntemini tanımlayın\n",
    "    def sup_health_insurance(Self, age, chronic_disease,income):\n",
    "        \n",
    "        #Kişinin ek sigorta alıp alamayacağını kontrol etmek için #if-else ifadeleri\n",
    "        if (age >= 60 and chronic_disease == True and income< 6000):\n",
    "            print(\"We are sorry! You are not eligible for supplemental health insurance.\")\n",
    "        elif (age < 60 and income>= 6000 or chronic_disease == False ):\n",
    "            print(\"We are sorry! You are not eligible for supplemental health insurance.\")\n",
    "\n",
    "    #update_num_clients yöntemini tanımlayın\n",
    "    def update_num_clients(self,new_number):\n",
    "        self.num_of_clients = new_number\n",
    "        print(f\"Number of clients has been changed to {self.num_of_clients}\")\n"
   ]
  },
  {
   "cell_type": "markdown",
   "metadata": {
    "id": "4uxjmN3vGCFJ"
   },
   "source": [
    "#### Nesneyi oluşturun\n",
    "Artık sınıfımızı oluşturduğumuza ve onun niteliklerini ve yöntemlerini başlattığımıza göre, şu niteliklere sahip “HI_company1” nesnesini oluşturabiliriz:\n",
    "* Company_name “Healthy”\n",
    "\n",
    "* foundation_year “2012”\n",
    "\n",
    "* founder_name “Bob Mayer”\n",
    "\n",
    "* company_slogan “We care for you.” \n",
    "\n",
    "* num_of_employees “3500”\n",
    "\n",
    "* num_of_clients “13230”\n"
   ]
  },
  {
   "cell_type": "code",
   "execution_count": 27,
   "metadata": {
    "id": "MBeiD4dlatPD"
   },
   "outputs": [
    {
     "name": "stdout",
     "output_type": "stream",
     "text": [
      "The company Healthy wasfounded in 2012.\n",
      "        The founder of company is Bob Mayer.\n",
      "        Company slogan: We care for you..\n",
      "        Number of Employees:3500\n",
      "        Number of clients: 13230\n",
      "        \n"
     ]
    }
   ],
   "source": [
    "#Create the object \"HI_company1\" with it's attributes\n",
    "# \"HealthInsurance\" sınıfından bir nesne oluştur\n",
    "HI_company1 = HealtInsurance(\n",
    "    company_name=\"Healthy\",\n",
    "    foundation_year=2012,\n",
    "    founder_name=\"Bob Mayer\",\n",
    "    company_slogan=\"We care for you.\",\n",
    "    num_of_employees=3500,\n",
    "    num_of_clients=13230\n",
    ")\n",
    "\n",
    "# Nesnenin özelliklerini görüntüleme\n",
    "HI_company1.print_report()"
   ]
  },
  {
   "cell_type": "markdown",
   "metadata": {
    "id": "V0larkhtGNjQ"
   },
   "source": [
    "#### Yöntemlerin işe yarayıp yaramadığını kontrol edelim.\n",
    "\n",
    "Tamamlayıcı sağlık sigortasına kaydolmak isteyen yeni bir müşterimiz var. 45 yaşında, kronik bir hastalığı yok ve aylık 5000 dolar geliri var.\n",
    "\n",
    "📌Bu bilgilerle sup_health_insurance yöntemini kullanın"
   ]
  },
  {
   "cell_type": "code",
   "execution_count": 28,
   "metadata": {
    "id": "T9SibjcjwP1b"
   },
   "outputs": [
    {
     "name": "stdout",
     "output_type": "stream",
     "text": [
      "We are sorry! You are not eligible for supplemental health insurance.\n"
     ]
    }
   ],
   "source": [
    "#Use the sup_health_insurance for the new customer\n",
    "HI_company1.sup_health_insurance(45,False,5000)"
   ]
  },
  {
   "cell_type": "markdown",
   "metadata": {
    "id": "FiFb7hhnCSql"
   },
   "source": [
    "Because the number of clients has increased, you should use the update_num_clients method. \n",
    "\n",
    "📌 The new_number will be 13231."
   ]
  },
  {
   "cell_type": "code",
   "execution_count": 29,
   "metadata": {
    "id": "FMto8ZjLa5rC"
   },
   "outputs": [
    {
     "name": "stdout",
     "output_type": "stream",
     "text": [
      "Number of clients has been changed to 13231\n"
     ]
    }
   ],
   "source": [
    "#Update the number of clients\n",
    "HI_company1.update_num_clients(13231)"
   ]
  },
  {
   "cell_type": "markdown",
   "metadata": {
    "id": "4AcSJLsoH7kq"
   },
   "source": [
    "To see the output of the latest update and check whether it worked or not, call the print_report method."
   ]
  },
  {
   "cell_type": "code",
   "execution_count": 30,
   "metadata": {
    "id": "IrSkauee4Qkt"
   },
   "outputs": [
    {
     "name": "stdout",
     "output_type": "stream",
     "text": [
      "The company Healthy wasfounded in 2012.\n",
      "        The founder of company is Bob Mayer.\n",
      "        Company slogan: We care for you..\n",
      "        Number of Employees:3500\n",
      "        Number of clients: 13231\n",
      "        \n"
     ]
    }
   ],
   "source": [
    "#Call the print_report method for HI_company1\n",
    "HI_company1.print_report()"
   ]
  },
  {
   "cell_type": "markdown",
   "metadata": {
    "id": "EX3NFIF-baj3"
   },
   "source": [
    "### Lojistik\n",
    "Özetinizden bir sonraki şirketle devam edelim.\n",
    "\n",
    "Depolama lojistikte çok önemli bir rol oynuyor ve şirket, envanter alanının durumunu yazılımla takip etmek ve ihtiyaç duyulduğunda sistemde değişiklik yapabilmek istiyor.\n",
    "\n",
    "Yine bir sınıf oluşturmanız gerekiyor.\n",
    "\n",
    "📌 \"Lojistik\" sınıfını oluşturmak için \"sınıf\" anahtar kelimesini kullanın\n",
    "\n",
    "📌 Nesnenin niteliklerini başlatmak için \"__init__\" yöntemini kullanın: self, şirket_adı, kuruluş_yılı, kurucu_adı, şirket_slogan ve envanter_alanı."
   ]
  },
  {
   "cell_type": "markdown",
   "metadata": {
    "id": "nPfZUASS4BMg"
   },
   "source": [
    "#### Yöntemleri tanımlayın\n",
    "\n",
    "Daha sonra sınıfın metodlarını tanımlayalım:\n",
    "\n",
    "1. print_report yöntemi: Şirket hakkındaki bilgilerin çıktısını alma yöntemi.\n",
    "\n",
    "  📌 Rapor şu yapıya sahip olmalıdır:\n",
    "\n",
    "  \"*name* şirketi *yıl* yılında kuruldu. Şirketin kurucusu *founder_name*'dir.\n",
    "\n",
    "  Şirket sloganı: *company_slogan*\n",
    "\n",
    "  Şirketin envanter alanı: *inventory_space*\n",
    "\n",
    "\n",
    "2. update_inventory_space yöntemi: Envanter_uzayını güncellemeye ve değişikliği açıklayan bir ifade yazdırmaya yönelik bir yöntem.\n",
    "\"new_storage_space\" parametresini dikkate almalıdır.\n"
   ]
  },
  {
   "cell_type": "code",
   "execution_count": 34,
   "metadata": {
    "id": "fq1787jDa_BI"
   },
   "outputs": [],
   "source": [
    "#Define the \"Logistics\" class\n",
    "class Logistic:\n",
    "    #Initialize the object's attributes \n",
    "    def __init__(self,company_name,foundation_year,founder_name,company_slogan,inventory_slogan,inventory_space):\n",
    "        self.company_name =company_name\n",
    "        self.foundation_year =foundation_year\n",
    "        self.founder_name =founder_name\n",
    "        self.company_slogan = company_slogan\n",
    "        self.inventory_slogan =inventory_slogan\n",
    "        self.inventory_space = inventory_space \n",
    "        \n",
    "    #Define the print_report method\n",
    "    def print_report(self):\n",
    "        print(f\"\"\"\n",
    "        The company name is {self.company_name} and was founded in {self.foundation_year}.\n",
    "        The founder of company is {self.founder_name}\n",
    "        Company slogan: {self.company_slogan}\n",
    "        Inventory space of the company {self.inventory_space}\n",
    "        \"\"\")\n",
    "\n",
    "    #Define the update_inventory_space method\n",
    "    def update_inventory_space(self,new_storage_space):\n",
    "        self.inventory_space = new_storage_space\n",
    "        print(f\"Inventory space has been changed to {self.inventory_space}\")\n",
    "        \n",
    "\n"
   ]
  },
  {
   "cell_type": "markdown",
   "metadata": {
    "id": "AJOdGm82DJsy"
   },
   "source": [
    "#### Create the object \n",
    "Now that we created our class and initialized its attributes and methods, we can create the object “logistic_company1” with the attributes: \n",
    "\n",
    "* Company_name “LogCom”\n",
    "\n",
    "* foundation_year “1990”\n",
    "\n",
    "* founder_name “Laura McCartey”\n",
    "\n",
    "* company_slogan “There is no place we cannot reach.” \n",
    "\n",
    "* inventory_space “2500”\n"
   ]
  },
  {
   "cell_type": "code",
   "execution_count": 38,
   "metadata": {
    "id": "jZpgNxEU25R9",
    "scrolled": false
   },
   "outputs": [
    {
     "name": "stdout",
     "output_type": "stream",
     "text": [
      "\n",
      "        The company name is LogCom and was founded in 1990.\n",
      "        The founder of company is Laura McCartey\n",
      "        Company slogan: There is no place we cannot reach.\n",
      "        Inventory space of the company 2500\n",
      "        \n"
     ]
    }
   ],
   "source": [
    "#Create the object \"logistic_company1\" with it's attributes\n",
    " \n",
    "logistic_company1 = Logistic(\n",
    "    company_name=\"LogCom\",\n",
    "    foundation_year=1990,\n",
    "    founder_name=\"Laura McCartey\",\n",
    "    company_slogan=\"There is no place we cannot reach.\",\n",
    "    inventory_space=2500,\n",
    "    inventory_slogan=\"Efficiency in every step.\"\n",
    ")\n",
    "\n",
    "logistic_company1.print_report()"
   ]
  },
  {
   "cell_type": "markdown",
   "metadata": {
    "id": "g3Auswd8EMeE"
   },
   "source": [
    "#### Yöntemlerin işe yarayıp yaramadığını kontrol edelim.\n",
    "Lojistik şirketi, envanter alanını 3000'e çıkaracak yeni bir depo satın almayı planlıyor.\n",
    "\n",
    "📌 Sistemdeki bu değişikliği yansıtmak için update_inventory_space yöntemini çağırın ve ardından “print_report” yöntemini kullanın."
   ]
  },
  {
   "cell_type": "code",
   "execution_count": 39,
   "metadata": {
    "id": "Kcxcr1MS3TLB"
   },
   "outputs": [
    {
     "name": "stdout",
     "output_type": "stream",
     "text": [
      "Inventory space has been changed to 3000\n",
      "\n",
      "        The company name is LogCom and was founded in 1990.\n",
      "        The founder of company is Laura McCartey\n",
      "        Company slogan: There is no place we cannot reach.\n",
      "        Inventory space of the company 3000\n",
      "        \n"
     ]
    }
   ],
   "source": [
    "#Update the inventory space\n",
    "logistic_company1.update_inventory_space(3000)\n",
    "#Call the print_report method for logistic_company1\n",
    "logistic_company1.print_report()"
   ]
  },
  {
   "cell_type": "markdown",
   "metadata": {
    "id": "CF-bba0xeH_G"
   },
   "source": [
    "### Ticaret\n",
    "Dijitalleştirmeniz gereken son şirket ticaret şirketidir.\n",
    "\n",
    "Satışları ve giderleri güncellemek ve geliri hesaplamak için bir yöntem oluşturmanız bekleniyor.\n",
    "\n",
    "Önceki şirketlerde olduğu gibi bir sınıf oluşturmanız gerekiyor.\n",
    "\n",
    "📌 \"Ticaret\" sınıfını oluşturmak için \"sınıf\" anahtar kelimesini kullanın\n",
    "\n",
    "📌 Nesnenin niteliklerini başlatmak için \"__init__\" yöntemini kullanın: self, şirket_adı, kuruluş_yılı, kurucu_adı, şirket_slogan'ı, satışlar, giderler ve gelir."
   ]
  },
  {
   "cell_type": "markdown",
   "metadata": {
    "id": "KSp_pa-08F69"
   },
   "source": [
    "#### Yöntemleri tanımlayın\n",
    "\n",
    "Daha sonra sınıfın metodlarını tanımlayalım:\n",
    "\n",
    "1. print_report yöntemi: Şirket hakkındaki bilgilerin çıktısını alma yöntemi.\n",
    "\n",
    "  📌 Rapor şu yapıya sahip olmalıdır:\n",
    "\n",
    "  \"*name* şirketi *yıl* yılında kuruldu. Şirketin kurucusu *founder_name*'dir.\n",
    "\n",
    "  Şirket sloganı: *company_slogan*\n",
    "\n",
    "  Toplam satış: *satış*\n",
    "\n",
    "  Toplam giderler: *giderler*\n",
    "\n",
    "  Toplam gelir: *gelir*\n",
    "\n",
    "\n",
    "2. update_sales_and_expenses yöntemi: Satışları ve giderleri güncelleme yöntemi.\n",
    "\"new_sales\" ve \"new_expenses\" parametrelerini dikkate almalıdır.\n",
    "\n",
    "3.calc_revenue yöntemi: Satışlar ile giderler arasındaki farkı hesaplayan ve gelirin çıktısını veren yöntemdir."
   ]
  },
  {
   "cell_type": "code",
   "execution_count": 49,
   "metadata": {
    "id": "SGQJ507gd-m1"
   },
   "outputs": [],
   "source": [
    "#Define the \"Trading\" class\n",
    "class Trading:\n",
    "    #Initialize the object's attributes \n",
    "    def __init__(self,company_name,foundation_year,founder_name,company_slogan,sales,expenses,revenue):\n",
    "        \n",
    "        #Define the print_report method\n",
    "        self.company_name = company_name\n",
    "        self.foundation_year = foundation_year\n",
    "        self.founder_name = founder_name\n",
    "        self.company_slogan = company_slogan\n",
    "        self.sales = sales\n",
    "        self.expenses = expenses\n",
    "        self.revenue = revenue\n",
    "        \n",
    "\n",
    "    #Define the update_sales_and_expenses method\n",
    "    def print_report(self):\n",
    "        print(f\"\"\"\n",
    "        The company name is {self.company_name} and was founded in {self.foundation_year}.\n",
    "        The founder of the company is  {self.founder_name}.\n",
    "        Company slogan: {self.company_slogan}\n",
    "        Total expenses: {self.expenses}\n",
    "        Total revenue: {self.revenue}\n",
    "        \n",
    "        \"\"\")\n",
    "\n",
    "    #Define the calculate_revenue method\n",
    "    def calculate_revenue(self):\n",
    "        self.revenue = self.sales -self.expenses\n",
    "        print(f\"The revenue of the company is: {self.revenue}\")\n",
    "    #Define the update_sales_and_expenses method\n",
    "    def update_sales_and_expenses(self, new_sales,new_expenses):\n",
    "        self.sales += new_sales\n",
    "        self.expenses += new_expenses\n",
    "        print(\"Sales and expenses are update!\")\n",
    "        "
   ]
  },
  {
   "cell_type": "markdown",
   "metadata": {
    "id": "r94nvoLmIiON"
   },
   "source": [
    "#### Nesneyi oluşturun\n",
    "Artık sınıfımızı oluşturduğumuza ve onun niteliklerini ve yöntemlerini başlattığımıza göre, şu niteliklere sahip “trading_company1” nesnesini oluşturabiliriz:\n",
    "\n",
    "* Şirket_adı “TraCom”\n",
    "\n",
    "* kuruluş_yılı “2005”\n",
    "\n",
    "* kurucu_adı “Chong Wu”\n",
    "\n",
    "* Company_slogan “Ticarette devrim yaratıyoruz.”\n",
    "\n",
    "* satış \"5000\"\n",
    "\n",
    "* giderler \"2000\"\n",
    "\n",
    "* gelir \"3000\""
   ]
  },
  {
   "cell_type": "code",
   "execution_count": 50,
   "metadata": {
    "id": "ZukV3vH2ePH8"
   },
   "outputs": [
    {
     "name": "stdout",
     "output_type": "stream",
     "text": [
      "\n",
      "        The company name is TraCom and was founded in 2005.\n",
      "        The founder of the company is  Chong Wu.\n",
      "        Company slogan: Ticarette devrim yaratıyoruz.\n",
      "        Total expenses: 2000\n",
      "        Total revenue: 3000\n",
      "        \n",
      "        \n"
     ]
    }
   ],
   "source": [
    "#Create the object \"trading_company1\" with it's attributes\n",
    "\n",
    "# \"Trading\" sınıfından bir nesne oluştur\n",
    "trading_company1 = Trading(\n",
    "    company_name=\"TraCom\",\n",
    "    foundation_year=2005,\n",
    "    founder_name=\"Chong Wu\",\n",
    "    company_slogan=\"Ticarette devrim yaratıyoruz.\",\n",
    "    sales=5000,\n",
    "    expenses=2000,\n",
    "    revenue=3000\n",
    ")\n",
    "\n",
    "# Nesnenin özelliklerini görüntüleme\n",
    "trading_company1.print_report()"
   ]
  },
  {
   "cell_type": "markdown",
   "metadata": {
    "id": "lFoOC4JpYX0L"
   },
   "source": [
    "### Yöntemlerin işe yarayıp yaramadığını kontrol edelim.\n",
    "Satışları ve giderleri güncelleyin. Satışlar 100, giderler ise 50 arttı.\n",
    "\n",
    "📌Bu bilgilerle update_sales_and_expenses yöntemini kullanın."
   ]
  },
  {
   "cell_type": "code",
   "execution_count": 51,
   "metadata": {
    "id": "Cn0c-Nq27HDI"
   },
   "outputs": [
    {
     "name": "stdout",
     "output_type": "stream",
     "text": [
      "Sales and expenses are update!\n"
     ]
    }
   ],
   "source": [
    "#Update the sales and expenses\n",
    "trading_company1.update_sales_and_expenses(100,50)"
   ]
  },
  {
   "cell_type": "markdown",
   "metadata": {
    "id": "PH28zb2WYrYl"
   },
   "source": [
    "After updating sale and expense informations, it is time to calculate the company revenue. \n",
    "\n",
    "📌 Use the calculate revenue method."
   ]
  },
  {
   "cell_type": "code",
   "execution_count": 52,
   "metadata": {
    "id": "E5Yb-de-8AiK"
   },
   "outputs": [
    {
     "name": "stdout",
     "output_type": "stream",
     "text": [
      "The revenue of the company is: 3050\n"
     ]
    }
   ],
   "source": [
    "#Calculate the revenue\n",
    "trading_company1.calculate_revenue()"
   ]
  },
  {
   "cell_type": "markdown",
   "metadata": {
    "id": "Z8QEH24AI0GA"
   },
   "source": [
    "Finally, let’s check our company’s information."
   ]
  },
  {
   "cell_type": "code",
   "execution_count": 53,
   "metadata": {
    "id": "jdEaNvGV_OD0"
   },
   "outputs": [
    {
     "name": "stdout",
     "output_type": "stream",
     "text": [
      "\n",
      "        The company name is TraCom and was founded in 2005.\n",
      "        The founder of the company is  Chong Wu.\n",
      "        Company slogan: Ticarette devrim yaratıyoruz.\n",
      "        Total expenses: 2050\n",
      "        Total revenue: 3050\n",
      "        \n",
      "        \n"
     ]
    }
   ],
   "source": [
    "#Call the print_report method for trading_company1\n",
    "trading_company1.print_report()"
   ]
  },
  {
   "cell_type": "code",
   "execution_count": null,
   "metadata": {},
   "outputs": [],
   "source": []
  }
 ],
 "metadata": {
  "colab": {
   "collapsed_sections": [],
   "name": "Guided_project_2.ipynb",
   "provenance": []
  },
  "kernelspec": {
   "display_name": "Python 3 (ipykernel)",
   "language": "python",
   "name": "python3"
  },
  "language_info": {
   "codemirror_mode": {
    "name": "ipython",
    "version": 3
   },
   "file_extension": ".py",
   "mimetype": "text/x-python",
   "name": "python",
   "nbconvert_exporter": "python",
   "pygments_lexer": "ipython3",
   "version": "3.11.2"
  }
 },
 "nbformat": 4,
 "nbformat_minor": 1
}
