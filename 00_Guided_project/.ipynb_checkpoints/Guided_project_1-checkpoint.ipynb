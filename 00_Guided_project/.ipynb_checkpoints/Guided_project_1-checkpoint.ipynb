{
 "cells": [
  {
   "cell_type": "markdown",
   "metadata": {
    "id": "VMuUK0ap_bRD"
   },
   "source": [
    "# Chapter 1\n",
    "### Your first day at your new job 👩‍💻👨‍💻\n",
    "\n",
    "Bir BT şirketinde yardımcı yazılım geliştiricisi olarak yeni bir işe başlıyorsunuz.\n",
    "\n",
    "Şirketin İK departmanı sizden bir form doldurmanızı istiyor, böylece kişisel bilgilerinizi ilgili değişkenlere atayarak başlıyorsunuz.\n",
    "\n",
    "📌 Adınız, soyadınız, yaşınız, kimlik numaranız, ikamet ettiğiniz yer, aktif sağlık sigortanızın olup olmadığını belirtmek ve son olarak uyruğunuzu belirtmek için bir değişken oluşturun.\n"
   ]
  },
  {
   "cell_type": "code",
   "execution_count": 4,
   "metadata": {
    "id": "OPLhhc2Sp-D0"
   },
   "outputs": [],
   "source": [
    "#Lütfen kişisel bilgilerinizi değişkenlere atayın\n",
    "my_name = \"Hafize\"\n",
    "my_surname = \"Öğüt\"\n",
    "my_age = 23\n",
    "ID_number = 123546593\n",
    "where_i_live =\"Uşak\"\n",
    "health_insurance = True\n",
    "#my_nationality = \"Türkiye\""
   ]
  },
  {
   "cell_type": "markdown",
   "metadata": {
    "id": "3zaUlxwcp-D0"
   },
   "source": [
    "###Karşılama ve selamlaşma\n",
    "Kendinizi yeni iş arkadaşlarınıza tanıtın.\n",
    "\n",
    "📌\"Benim adım Hafize Öğüt, 23 yaşındayım ve Sakarya'da yaşıyorum\" ifadesini yazdırmak için f-string kullanın."
   ]
  },
  {
   "cell_type": "code",
   "execution_count": 7,
   "metadata": {
    "id": "XNuh5_2WXwvg"
   },
   "outputs": [
    {
     "name": "stdout",
     "output_type": "stream",
     "text": [
      "My name is Hafize  Öğüt I am 23 years old, I live in Uşak\n"
     ]
    }
   ],
   "source": [
    "#Yukarıdaki değişkenleri doğru veri türünde kullanarak kendinizi tanımlamak için yazdırma işlevini kullanarak bir cümle yazın\n",
    "print(f\"My name is {my_name}  {my_surname} I am {str(my_age)} years old, I live in {where_i_live}\")"
   ]
  },
  {
   "cell_type": "markdown",
   "metadata": {
    "id": "EEL9To4ip-D1"
   },
   "source": [
    "### Ekipman başlangıç paketi\n",
    "İK departmanı sizden iş verimliliğinizi artırmak için ihtiyaç duyacağınız öğeleri listelemenizi ister\n",
    "\n",
    "Zorunlu:\n",
    "* Dizüstü bilgisayar\n",
    "* Kulaklık\n",
    "* İkinci monitör\n",
    "\n",
    "İsteğe bağlı:\n",
    "* Fare altlığı\n",
    "* USB sürücüsü\n",
    "* Harici Sürücü\n",
    "\n",
    "\n",
    "📌 Yukarıdaki ürünleri içeren bir alışveriş listesi oluşturun ve yazdırın."
   ]
  },
  {
   "cell_type": "code",
   "execution_count": 54,
   "metadata": {
    "id": "fPFBLDyqp-D2"
   },
   "outputs": [],
   "source": [
    "#Create the item_list\n",
    "#item_list'i oluştur\n",
    "item_list = [\"Dizüstü bilgisayar\",\"Kulaklık\",\"İkinci monitör\",\"Fare altlığı\",\"USB sürücüsü\",\"Harici Sürücü\"]"
   ]
  },
  {
   "cell_type": "code",
   "execution_count": 9,
   "metadata": {
    "id": "358R_CN5U2-J"
   },
   "outputs": [
    {
     "name": "stdout",
     "output_type": "stream",
     "text": [
      "['Dizüstü bilgisayar', 'Kulaklık', 'İkinci monitör', 'Fare altlığı', 'USB sürücüsü', 'Harici Sürücü']\n"
     ]
    }
   ],
   "source": [
    "#Print the list\n",
    "#Listeyi yazdır\n",
    "print(item_list)"
   ]
  },
  {
   "cell_type": "markdown",
   "metadata": {
    "id": "5keEWjCyp-D2"
   },
   "source": [
    "####Ne zorunlu, ne isteğe bağlı?\n",
    "\n",
    "📌 Listenizi iki listeye ayırmak için liste dilimlemeyi kullanın: 'zorunlu_öğe_listesi' ve 'isteğe bağlı_öğe_listesi' ve her ikisini de ekrana yazdırın."
   ]
  },
  {
   "cell_type": "code",
   "execution_count": 10,
   "metadata": {
    "id": "E6ewuDYZp-D2"
   },
   "outputs": [
    {
     "name": "stdout",
     "output_type": "stream",
     "text": [
      "['Dizüstü bilgisayar', 'Kulaklık', 'İkinci monitör']\n"
     ]
    }
   ],
   "source": [
    "#Use list slicing to divide the mandatory items\n",
    "#Zorunlu öğeleri bölmek için liste dilimlemeyi kullanın\n",
    "print(item_list[0:3])"
   ]
  },
  {
   "cell_type": "code",
   "execution_count": 11,
   "metadata": {
    "id": "hOmkym01RGEL"
   },
   "outputs": [
    {
     "name": "stdout",
     "output_type": "stream",
     "text": [
      "['Fare altlığı', 'USB sürücüsü', 'Harici Sürücü']\n"
     ]
    }
   ],
   "source": [
    "#Use list slicing to divide the optional items\n",
    "#İsteğe bağlı öğeleri bölmek için liste dilimlemeyi kullanın\n",
    "print(item_list[3:6])"
   ]
  },
  {
   "cell_type": "code",
   "execution_count": 12,
   "metadata": {
    "id": "xsVv1_msVE1_"
   },
   "outputs": [
    {
     "name": "stdout",
     "output_type": "stream",
     "text": [
      "['Dizüstü bilgisayar', 'Kulaklık', 'İkinci monitör']\n",
      "['Fare altlığı', 'USB sürücüsü', 'Harici Sürücü']\n"
     ]
    }
   ],
   "source": [
    "#Print both to the screen\n",
    "#İkisini de ekrana yazdır\n",
    "print(item_list[0:3])\n",
    "print(item_list[3:6])"
   ]
  },
  {
   "cell_type": "markdown",
   "metadata": {
    "id": "s_M1Q93wp-D3"
   },
   "source": [
    "#### Alışverişe gitmek\n",
    "Daha sonra gidip bu eşyaları satın almanız gerekecek, finans departmanı 5000 dolarlık bir bütçeyi onayladı.\n",
    "\n",
    "📌 Limit adı verilen değişkene 5000 atayın, böylece ne kadar harcayabileceğinizi bilirsiniz.\n"
   ]
  },
  {
   "cell_type": "code",
   "execution_count": 13,
   "metadata": {
    "id": "nCmpm0oqp-D3"
   },
   "outputs": [],
   "source": [
    "#Assign the spending limit value to a variable called limit\n",
    "#Harcama limiti değerini limit adı verilen bir değişkene atayın\n",
    "limit = 5000"
   ]
  },
  {
   "cell_type": "markdown",
   "metadata": {
    "id": "VwbEEymVp-D3"
   },
   "source": [
    "####Fiyat sözlüğü\n",
    "\n",
    "Alışverişe başlamadan önce şirket bütçesi dahilinde satın alabileceğiniz en iyi ürünleri bulmanız gerekir.\n",
    "\n",
    "📌 Anahtar olarak kalemleri, değer olarak ise fiyatları içeren “fiyat_sayfası” adlı bir sözlük hazırlayın.\n",
    " "
   ]
  },
  {
   "cell_type": "code",
   "execution_count": 14,
   "metadata": {
    "id": "9o9n9Ag-p-D3"
   },
   "outputs": [],
   "source": [
    "#Create a dictionary that contains each item and its price\n",
    "#Her öğeyi ve fiyatını içeren bir sözlük oluşturun\n",
    "price_sheet = {\n",
    "    'Laptop' : 1500,\n",
    "    'Headset' :100,\n",
    "    \"Second monitor\" : 200,\n",
    "    'Mousepad' : 50,\n",
    "    'USB drive' : 70,\n",
    "    'External drive' : 250\n",
    "}  "
   ]
  },
  {
   "cell_type": "markdown",
   "metadata": {
    "id": "rUYivBVEBhCv"
   },
   "source": [
    "####Alışveriş işlevleri\n",
    "\n",
    "Alışveriş sırasında size yardımcı olacak üç fonksiyonu tanımlamanız gerekiyor.\n",
    "\n",
    "📌Öncelikle alışveriş sepetiniz olacak boş bir liste oluşturun. Burada satın almanız gereken öğeleri ekleyeceksiniz.\n",
    "\n",
    "1. Hem sepete ürün eklemek hem de bunları ürün_listesinden kaldırmak için bir işlev tanımlayın.\n",
    "\n",
    "📌 \"Add_to_cart\" fonksiyonu argüman olarak ürün adını ve satın alınacak miktarı almalıdır.\n",
    "\n",
    "2. Fatura oluşturacak fonksiyonu tanımlayın.\n",
    "\n",
    "📌 \"create_invoice\" fonksiyonu her bir kalemin vergisini (%18) hesaplamalı ve bunu toplam tutara eklemelidir.\n",
    "\n",
    "3. Ödeme için bir işlev tanımlayın.\n",
    "\n",
    "📌 \"Ödeme\" işlevi, toplam tutarı bütçeden çıkarmalı ve ödemenin başarılı olup olmadığını bildiren bir bildirim yazdırmalıdır."
   ]
  },
  {
   "cell_type": "code",
   "execution_count": 41,
   "metadata": {
    "id": "dBNZ2ZdkGHUe"
   },
   "outputs": [],
   "source": [
    "#Initialize the cart list\n",
    "#Sepet listesini başlat\n",
    "cart = []"
   ]
  },
  {
   "cell_type": "code",
   "execution_count": 63,
   "metadata": {
    "id": "HH26hHHFGKPJ"
   },
   "outputs": [],
   "source": [
    "#Define the \"add_to_cart\" function\n",
    "#\"sepete_ekle\" işlevini tanımla\n",
    "def add_to_cart(item, quantity):\n",
    "    if item in item_list:\n",
    "        cart.append((item, quantity))\n",
    "        item_list.remove(item)\n",
    "    else:\n",
    "        print(f\"{item} is not in the item list. Cannot add it to the cart.\")\n",
    "\n"
   ]
  },
  {
   "cell_type": "code",
   "execution_count": 64,
   "metadata": {
    "id": "TUmNr4xVGQdm"
   },
   "outputs": [],
   "source": [
    "#Define the \"create_invoice\" function\n",
    "#\"create_invoice\" işlevini tanımlayın\n",
    "def create_invoice():\n",
    "    total_amaount_inc_tax = 0\n",
    "    for item,quantity in cart:\n",
    "        price = price_sheet[item]\n",
    "        tax = 0.18 * price\n",
    "        total = (tax + price) *quantity\n",
    "        total_amaount_inc_tax += total\n",
    "        print(\"Item\",item,'\\t',\"price\",price,'\\t', 'Quantity:',quantity,'\\t','Tax:',tax,'\\t', 'Total:',total,\"\\n\")\n",
    "        \n",
    "    print(\"After the taces are applied the total amount is:\",total_amaount_inc_tax)\n",
    "    return total_amaount_inc_tax"
   ]
  },
  {
   "cell_type": "code",
   "execution_count": 65,
   "metadata": {
    "id": "iUlKiXgMGdIk"
   },
   "outputs": [],
   "source": [
    "#Define the \"checkout\" function\n",
    "#\"Ödeme\" işlevini tanımla\n",
    "def checkout():\n",
    "    global limit\n",
    "    total_amount = create_invoice()\n",
    "    if limit == 0:\n",
    "        print (\"you don't have anny budget\")\n",
    "    elif total_amount > limit:\n",
    "        print (\"The amount you have to pay is above the apending limit. You have to drop some itrms\")\n",
    "    else:\n",
    "        limit -=totalamount\n",
    "        print(f'The total omount ( incl. taxes) you have paid is {total_amount}. You have {limit} dollars left')"
   ]
  },
  {
   "cell_type": "markdown",
   "metadata": {
    "id": "2IFUlu0yB0In"
   },
   "source": [
    "Let's shop!"
   ]
  },
  {
   "cell_type": "code",
   "execution_count": 66,
   "metadata": {
    "id": "FDO7CRJTWPg7"
   },
   "outputs": [
    {
     "name": "stdout",
     "output_type": "stream",
     "text": [
      "Laptop is not in the item list. Cannot add it to the cart.\n",
      "Headset is not in the item list. Cannot add it to the cart.\n",
      "External drive is not in the item list. Cannot add it to the cart.\n",
      "Second monitör is not in the item list. Cannot add it to the cart.\n",
      "mousepad is not in the item list. Cannot add it to the cart.\n",
      "Usb is not in the item list. Cannot add it to the cart.\n",
      "HDMI is not in the item list. Cannot add it to the cart.\n",
      "Item Laptop \t price 1500 \t Quantity: 1 \t Tax: 270.0 \t Total: 1770.0 \n",
      "\n",
      "Item Laptop \t price 1500 \t Quantity: 1 \t Tax: 270.0 \t Total: 1770.0 \n",
      "\n",
      "Item Laptop \t price 1500 \t Quantity: 1 \t Tax: 270.0 \t Total: 1770.0 \n",
      "\n",
      "Item Laptop \t price 1500 \t Quantity: 1 \t Tax: 270.0 \t Total: 1770.0 \n",
      "\n",
      "Item Laptop \t price 1500 \t Quantity: 1 \t Tax: 270.0 \t Total: 1770.0 \n",
      "\n",
      "After the taces are applied the total amount is: 8850.0\n",
      "The amount you have to pay is above the apending limit. You have to drop some itrms\n"
     ]
    }
   ],
   "source": [
    "#Her öğe için \"add_to_cart\" işlevini çağırın\n",
    "add_to_cart(\"Laptop\",1)\n",
    "\n",
    "#İlk ürünü sepete ekle\n",
    "add_to_cart(\"Headset\",8)\n",
    " \n",
    "#Sepete ikinci ürünü ekle\n",
    "add_to_cart(\"External drive\",1)\n",
    " \n",
    "#Sepete üçüncü ürünü ekle\n",
    "add_to_cart(\"Second monitör\",1)\n",
    " \n",
    "#Sepete dördüncü ürünü ekle\n",
    "add_to_cart(\"mousepad\",1)\n",
    " \n",
    "#Sepete beşinci ürünü ekle\n",
    "add_to_cart(\"Usb\",3)\n",
    " \n",
    "#Sepete son ürünü ekle\n",
    "add_to_cart(\"HDMI\",5)\n",
    " \n",
    "#Tüm öğelerinizin ödemesini yapmak için \"ödeme\" oluştur işlevini çağırın\n",
    "checkout()"
   ]
  },
  {
   "cell_type": "markdown",
   "metadata": {
    "id": "ZL-r2x_xKixg"
   },
   "source": [
    "###Oyun gecesi\n",
    "\n",
    "Ofise geri döndünüz ve İK departmanı yeni çalışanlar için bir hoş geldin partisi düzenliyor.\n",
    "\n",
    "Bir Taş-Kağıt-Makas oyunu oluşturmaya karar veriyorsunuz.\n",
    "\n",
    "📌 Kullanıcının bilgisayara karşı oynayacağı bir Taş-Kağıt-Makas oyunu oluşturun. Oyuncu eylemlerden birini seçecek ve bilgisayar eylemini rastgele seçecektir."
   ]
  },
  {
   "cell_type": "code",
   "execution_count": 67,
   "metadata": {
    "id": "qzD5pxBTgcFb"
   },
   "outputs": [],
   "source": [
    "#Import the random library\n",
    "import random"
   ]
  },
  {
   "cell_type": "code",
   "execution_count": 70,
   "metadata": {
    "id": "oJv-ihLAgcRo"
   },
   "outputs": [],
   "source": [
    "#create a list containing the three actions of the game.\n",
    "action_list =['rock','paper','scissors']"
   ]
  },
  {
   "cell_type": "code",
   "execution_count": 76,
   "metadata": {
    "id": "DNUa_9afWqMd"
   },
   "outputs": [
    {
     "name": "stdout",
     "output_type": "stream",
     "text": [
      "How many round so you want to play? Please enter a number here: 1\n",
      "Round counter 1\n",
      "Please choose your action:2\n",
      "Computer: paper\n",
      "Player: 2\n",
      "Winner is:Player\n",
      "There is no winner,tie. 0 : 1\n"
     ]
    }
   ],
   "source": [
    "#Oyuncuların puanlarını 0'a ayarla\n",
    "computer_score=0\n",
    "player_score = 0\n",
    "\n",
    "#Kullanıcıya kaç tur oynamak istediğini sor\n",
    "total_rounds = input(\"How many round so you want to play? Please enter a number here: \")\n",
    "\n",
    "#Başlangıcı 0 olan bir round_counter ekle\n",
    "round_counter = 0\n",
    "\n",
    "#Bir süre döngüsü yaz ve oyunu içine koy\n",
    "while True:\n",
    "\n",
    "   #round_counter değerini artır ve yazdır\n",
    "    round_counter += 1\n",
    "    print('Round counter' ,round_counter)\n",
    "\n",
    "\n",
    "   #Bilgisayar için rastgele bir eylem seç\n",
    "    computer_choice = random.choice(action_list)\n",
    "\n",
    "   #Oyuncudan bir eylem seçmesini isteyin\n",
    "    player_choice = input(\"Please choose your action:\")\n",
    "  \n",
    "\n",
    "   #Oyuncuların seçimlerini yazdır\n",
    "    print (\"Computer:\",computer_choice)\n",
    "    print (\"Player:\",player_choice)\n",
    "\n",
    "\n",
    "\n",
    "   #kravat koşulu\n",
    "    if computer_choice == 'paper':\n",
    "        if player_choice == 'rock':\n",
    "            print(\"Winner is: computer\")\n",
    "            computer_score +=1\n",
    "        else:\n",
    "            print(\"Winner is:Player\")\n",
    "            player_score +=1\n",
    "    elif computer_choice == 'rock':\n",
    "        if player_choice == 'paper':\n",
    "            print(\"Winner is: Player\")\n",
    "            player_score +=1\n",
    "        else:\n",
    "            print (\"Winner is: Computer\")\n",
    "            computer_score +=1\n",
    "    elif computer_choice == 'scissors':\n",
    "        if player_choice == 'paper':\n",
    "            print(\"Winner is: computer\")\n",
    "            computer_score +=1\n",
    "        else:\n",
    "            print(\"Winner is: Player\")\n",
    "            player_score +=1\n",
    "\n",
    "\n",
    "   #Kalan koşullar\n",
    "    \n",
    "\n",
    "\n",
    "\n",
    "\n",
    "\n",
    "   #Round_counter toplam tur sayısına eşitse while döngüsünü durdurun\n",
    "    if round_counter ==int(total_rounds):\n",
    "        break\n",
    "\n",
    "\n",
    "#Koşullu ifadeleri kullanarak oyunun sonucunu yazdırın\n",
    "if computer_score == player_score:\n",
    "    print(\"There is no winner,tie.\",computer_score,\":\",player_score)\n",
    "elif computer_score > player_score:\n",
    "    print(\"There is no winner,tie.\",computer_score,\":\",player_score)\n",
    "elif computer_score < player_score:\n",
    "    print(\"There is no winner,tie.\",computer_score,\":\",player_score)"
   ]
  },
  {
   "cell_type": "markdown",
   "metadata": {
    "id": "jdrYN0Xgp-D6"
   },
   "source": [
    "# İlk göreviniz\n",
    "\n",
    "Rachel sizden her çalışanın adını ve getirdiği geliri takip edecek bir program yazmanızı istiyor.\n",
    "\n",
    "* Çalışan adını anahtar, geliri ise değer olarak görmek için \"satış elemanı_gelir\" sözlüğünü oluşturun.\n",
    "\n",
    "   📌 Her çalışan 0 gelirle başlar.\n",
    "* \"Gelir_giriş\" fonksiyonunu tanımlayın.\n",
    "\n",
    "   📌 Fonksiyon, adı ve geliri argüman olarak alır ve salesperson_revenue sözlüğünü günceller.\n"
   ]
  },
  {
   "cell_type": "code",
   "execution_count": 78,
   "metadata": {
    "id": "3vzRo7hyMRv2"
   },
   "outputs": [],
   "source": [
    "#Create salesperson_revenue dictionary\n",
    "salesperson_revenue ={\n",
    "    \"Ben\":0,\n",
    "    \"Omer\":0,\n",
    "    \"Karen\":0,\n",
    "    \"Celine\":0,\n",
    "    \"Sue\":0,\n",
    "    \"Bora\":0,\n",
    "    \"Rose\":0,\n",
    "    \"Ellen\":0,\n",
    "}\n"
   ]
  },
  {
   "cell_type": "code",
   "execution_count": 84,
   "metadata": {
    "id": "m-8IozBwMRzM"
   },
   "outputs": [],
   "source": [
    "#Define enter_revenue function\n",
    "def enter_revenue(name,revenue):\n",
    "    global salesperson_revenue\n",
    "    salesperson_revenue[name] += revenue\n"
   ]
  },
  {
   "cell_type": "markdown",
   "metadata": {
    "id": "UnTGSoNTi58u"
   },
   "source": [
    "####İşlevleri deneyin\n",
    "* Bir süre döngüsünde kullanıcıdan çalışanın adını ve geliri vermesini isteyin\n",
    "\n",
    "   📌 Kullanıcı “quit” girerse döngünün kırılması gerekir.\n",
    "\n",
    "Bundan sonra salesperson_revenue sözlüğünü yazdırın.\n"
   ]
  },
  {
   "cell_type": "code",
   "execution_count": 86,
   "metadata": {
    "id": "2E549VvFXNi6"
   },
   "outputs": [
    {
     "name": "stdout",
     "output_type": "stream",
     "text": [
      "Employee name:Ben\n",
      "Enter revenue: 20\n",
      "Ben's revenue is 40'\n",
      "Employee name:quit\n"
     ]
    }
   ],
   "source": [
    "#Asking user employee name as input\n",
    "#Giriş olarak kullanıcı çalışanının adını sorma\n",
    "while True:\n",
    "    name = input(\"Employee name:\")\n",
    "    if name ==\"quit\":\n",
    "        break\n",
    "    revenue = int(input(\"Enter revenue: \"))\n",
    "    enter_revenue(name,revenue)\n",
    "    print(f\"{name}'s revenue is {salesperson_revenue[name]}'\")"
   ]
  },
  {
   "cell_type": "code",
   "execution_count": null,
   "metadata": {
    "id": "OAvl9rgOXPe6"
   },
   "outputs": [],
   "source": []
  },
  {
   "cell_type": "code",
   "execution_count": null,
   "metadata": {},
   "outputs": [],
   "source": []
  }
 ],
 "metadata": {
  "colab": {
   "collapsed_sections": [],
   "name": "Guided_project_1.ipynb",
   "provenance": []
  },
  "interpreter": {
   "hash": "c5914ae3790566b9cd0e984a9bdda42a29da8adf046b5ac0173e0d37aacf3dab"
  },
  "kernelspec": {
   "display_name": "Python 3 (ipykernel)",
   "language": "python",
   "name": "python3"
  },
  "language_info": {
   "codemirror_mode": {
    "name": "ipython",
    "version": 3
   },
   "file_extension": ".py",
   "mimetype": "text/x-python",
   "name": "python",
   "nbconvert_exporter": "python",
   "pygments_lexer": "ipython3",
   "version": "3.11.2"
  }
 },
 "nbformat": 4,
 "nbformat_minor": 1
}
