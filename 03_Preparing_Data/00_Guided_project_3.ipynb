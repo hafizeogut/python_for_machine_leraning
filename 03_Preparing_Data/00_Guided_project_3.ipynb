{
 "cells": [
  {
   "cell_type": "markdown",
   "id": "15177c1c",
   "metadata": {
    "id": "15177c1c"
   },
   "source": [
    "#Bölüm 3: Veri temizleme alıştırması\n",
    "\n",
    "### Satış departmanı performans analizi\n",
    "\n",
    "İK departmanı, satış departmanındaki çalışanların performansını analiz etmek istiyor.\n",
    "\n",
    "### Veri Okuma\n",
    "Rachel, gerekli tüm bilgileri içeren bir çalışan_gelir.txt metin dosyası yazdı ancak gerekli bilgileri çıkarmak için yardıma ihtiyacı var.\n",
    "\n",
    "Employee_revenue dosyasını çalışma dizinine yükleyerek başlayın.\n",
    "\n",
    "📌 Metin dosyasını okuma modunda açmak ve onu \"data\" değişkenine atamak için .read() yöntemini kullanın."
   ]
  },
  {
   "cell_type": "code",
   "execution_count": 35,
   "id": "da79a8da",
   "metadata": {
    "colab": {
     "base_uri": "https://localhost:8080/",
     "height": 17
    },
    "id": "da79a8da",
    "outputId": "de60b8cb-3977-4a43-df3a-4529cc28dfae"
   },
   "outputs": [
    {
     "name": "stdout",
     "output_type": "stream",
     "text": [
      "  Ben made 300 calls and generated 2400 dollars last Month with an 8$ average deal size.  \n",
      "omer called 10 times and Sold 2 courses generated 60 dollars last month with a 6$ average deal size.\n",
      "   KAren called 500 people and achieved success by GETting 24$ average deal size, got 12000 dollars revenue.     \n",
      "Celine with 70 calls, made 2275 dollars and 32$ average deal size IN the previous month.  \n",
      "     Sue called 100 people and earned 500 Dollars in REvenue and an AVERAGE DEAL SIZE of 5$ Last month.\n",
      "Bora called 100 people generated 770 dollars last month, his average deal size was 25$.  \n",
      "Rose made 600 phone calls and GENERATING 4000 dollars a past month 25$ average deal SIZE. \n",
      "Ellen made 800 calls and generated 6000 dollars a prior mONTH and reached 40$ the average deal size. \n",
      " bob made 200 phone calls, helped to make a proGress and generated 800 dollars LAST MONTH and gaining 15$ average deal size.\n",
      "Taylor, with 450 calls generated 1200 dollars in revenue pASt month, and the average deal size was 10$. \n",
      "  JuDE made 80 calls and earned 500 dollars for the company last month, her average deal size was 12$.\n",
      "\n"
     ]
    }
   ],
   "source": [
    "#Open the file in read mode\n",
    "file = open(\"employee_revenue.txt\", \"r\")\n",
    "data = file.read()\n",
    "file.close()\n",
    "print(data)\n"
   ]
  },
  {
   "cell_type": "code",
   "execution_count": 36,
   "id": "75a5de52",
   "metadata": {
    "id": "75a5de52"
   },
   "outputs": [
    {
     "name": "stdout",
     "output_type": "stream",
     "text": [
      "  Ben made 300 calls and generated 2400 dollars last Month with an 8$ average deal size.  \n",
      "omer called 10 times and Sold 2 courses generated 60 dollars last month with a 6$ average deal size.\n",
      "   KAren called 500 people and achieved success by GETting 24$ average deal size, got 12000 dollars revenue.     \n",
      "Celine with 70 calls, made 2275 dollars and 32$ average deal size IN the previous month.  \n",
      "     Sue called 100 people and earned 500 Dollars in REvenue and an AVERAGE DEAL SIZE of 5$ Last month.\n",
      "Bora called 100 people generated 770 dollars last month, his average deal size was 25$.  \n",
      "Rose made 600 phone calls and GENERATING 4000 dollars a past month 25$ average deal SIZE. \n",
      "Ellen made 800 calls and generated 6000 dollars a prior mONTH and reached 40$ the average deal size. \n",
      " bob made 200 phone calls, helped to make a proGress and generated 800 dollars LAST MONTH and gaining 15$ average deal size.\n",
      "Taylor, with 450 calls generated 1200 dollars in revenue pASt month, and the average deal size was 10$. \n",
      "  JuDE made 80 calls and earned 500 dollars for the company last month, her average deal size was 12$.\n",
      "\n"
     ]
    }
   ],
   "source": [
    "#Print the data\n",
    "print(data)\n",
    "file.close()"
   ]
  },
  {
   "cell_type": "markdown",
   "id": "33d4f7ef",
   "metadata": {
    "id": "33d4f7ef"
   },
   "source": [
    "### Veri temizleme\n",
    "\n",
    "Bu satırlardan verilerin temizlenmesi ve bilgilerin çıkarılması gerektiğini görebilirsiniz.\n",
    "\n",
    "Verileri temizleyebilmek için metni satırlara ayırmanız gerekir.\n",
    "\n",
    "📌 .splitlines() yöntemini kullanın."
   ]
  },
  {
   "cell_type": "code",
   "execution_count": 38,
   "id": "9a1a651d",
   "metadata": {
    "id": "9a1a651d"
   },
   "outputs": [
    {
     "name": "stdout",
     "output_type": "stream",
     "text": [
      "['  Ben made 300 calls and generated 2400 dollars last Month with an 8$ average deal size.  ', 'omer called 10 times and Sold 2 courses generated 60 dollars last month with a 6$ average deal size.', '   KAren called 500 people and achieved success by GETting 24$ average deal size, got 12000 dollars revenue.     ', 'Celine with 70 calls, made 2275 dollars and 32$ average deal size IN the previous month.  ', '     Sue called 100 people and earned 500 Dollars in REvenue and an AVERAGE DEAL SIZE of 5$ Last month.', 'Bora called 100 people generated 770 dollars last month, his average deal size was 25$.  ', 'Rose made 600 phone calls and GENERATING 4000 dollars a past month 25$ average deal SIZE. ', 'Ellen made 800 calls and generated 6000 dollars a prior mONTH and reached 40$ the average deal size. ', ' bob made 200 phone calls, helped to make a proGress and generated 800 dollars LAST MONTH and gaining 15$ average deal size.', 'Taylor, with 450 calls generated 1200 dollars in revenue pASt month, and the average deal size was 10$. ', '  JuDE made 80 calls and earned 500 dollars for the company last month, her average deal size was 12$.']\n"
     ]
    }
   ],
   "source": [
    "#Seperate the data into lines ;\n",
    "lines = data.splitlines()\n",
    "print(lines)"
   ]
  },
  {
   "cell_type": "markdown",
   "id": "CKkeig2poz7w",
   "metadata": {
    "id": "CKkeig2poz7w"
   },
   "source": [
    "### Veriyi satır satır temizleyin\n",
    "\n",
    "İlk satırın verilerini temizlemeye başlayın.\n",
    "\n",
    "📌 Dizenin kenarlarındaki boşlukları kaldırmak için .strip() yöntemini kullanın."
   ]
  },
  {
   "cell_type": "code",
   "execution_count": 39,
   "id": "2332622c",
   "metadata": {
    "id": "2332622c"
   },
   "outputs": [],
   "source": [
    "#Take the first line\n",
    "string = lines[0]"
   ]
  },
  {
   "cell_type": "code",
   "execution_count": 43,
   "id": "26219c0d",
   "metadata": {
    "id": "26219c0d"
   },
   "outputs": [
    {
     "name": "stdout",
     "output_type": "stream",
     "text": [
      "Ben made 300 calls and generated 2400 dollars last Month with an 8$ average deal size\n"
     ]
    }
   ],
   "source": [
    "#Remove the whitespaces from the edges\n",
    "string = string.strip(\" \")\n",
    "print(string)"
   ]
  },
  {
   "cell_type": "markdown",
   "id": "ed90bfc6",
   "metadata": {
    "id": "ed90bfc6"
   },
   "source": [
    "Daha sonra, büyük harf kullanımı sorunlarını düzeltmeniz gerekir.\n",
    "\n",
    "📌 Metni küçük harfe dönüştürmek için .lower() yöntemini kullanın.\n",
    "\n",
    "📌 Daha sonra ilk harfi büyük yapmak için .capitalize() yöntemini kullanın."
   ]
  },
  {
   "cell_type": "code",
   "execution_count": 45,
   "id": "ef8bca74",
   "metadata": {
    "id": "ef8bca74"
   },
   "outputs": [
    {
     "data": {
      "text/plain": [
       "'ben made 300 calls and generated 2400 dollars last month with an 8$ average deal size'"
      ]
     },
     "execution_count": 45,
     "metadata": {},
     "output_type": "execute_result"
    }
   ],
   "source": [
    "#Convert the string to lowercase\n",
    "string = string.lower()\n",
    "string"
   ]
  },
  {
   "cell_type": "code",
   "execution_count": 47,
   "id": "d4be9443",
   "metadata": {
    "id": "d4be9443"
   },
   "outputs": [
    {
     "data": {
      "text/plain": [
       "'Ben made 300 calls and generated 2400 dollars last month with an 8$ average deal size'"
      ]
     },
     "execution_count": 47,
     "metadata": {},
     "output_type": "execute_result"
    }
   ],
   "source": [
    "#Capitalize the first character\n",
    "string = string.capitalize()\n",
    "string"
   ]
  },
  {
   "cell_type": "markdown",
   "id": "f89b01c4",
   "metadata": {
    "id": "f89b01c4"
   },
   "source": [
    "\n",
    "### Bilgi Çıkarma\n",
    "\n",
    "Bilgiyi çıkarmak için cümleyi kelimelere bölmeniz gerekir.\n",
    "\n",
    "📌 .split() yöntemini kullanın."
   ]
  },
  {
   "cell_type": "code",
   "execution_count": 49,
   "id": "04ede2fd",
   "metadata": {
    "id": "04ede2fd"
   },
   "outputs": [
    {
     "data": {
      "text/plain": [
       "['Ben',\n",
       " 'made',\n",
       " '300',\n",
       " 'calls',\n",
       " 'and',\n",
       " 'generated',\n",
       " '2400',\n",
       " 'dollars',\n",
       " 'last',\n",
       " 'month',\n",
       " 'with',\n",
       " 'an',\n",
       " '8$',\n",
       " 'average',\n",
       " 'deal',\n",
       " 'size']"
      ]
     },
     "execution_count": 49,
     "metadata": {},
     "output_type": "execute_result"
    }
   ],
   "source": [
    "#Split the sentece into words\n",
    "split_string = string.split(\" \")\n",
    "split_string"
   ]
  },
  {
   "cell_type": "markdown",
   "id": "9138eb5b",
   "metadata": {
    "id": "9138eb5b"
   },
   "source": [
    "\n",
    "Listedeki ilk öğenin isim, üçüncü öğenin ise çağrı sayısı olduğunu fark etmişsinizdir.\n",
    "\n",
    "📌 Çağrıların adını ve sayısını çıkarmak için indeksleri kullanın"
   ]
  },
  {
   "cell_type": "code",
   "execution_count": 50,
   "id": "897c59e5",
   "metadata": {
    "id": "897c59e5"
   },
   "outputs": [
    {
     "data": {
      "text/plain": [
       "'Ben'"
      ]
     },
     "execution_count": 50,
     "metadata": {},
     "output_type": "execute_result"
    }
   ],
   "source": [
    "#Use the index 0 to access the name element\n",
    "name = split_string[0]\n",
    "name"
   ]
  },
  {
   "cell_type": "code",
   "execution_count": 52,
   "id": "98103332",
   "metadata": {
    "id": "98103332"
   },
   "outputs": [
    {
     "data": {
      "text/plain": [
       "'300'"
      ]
     },
     "execution_count": 52,
     "metadata": {},
     "output_type": "execute_result"
    }
   ],
   "source": [
    "#Use the index 2 to access the number of calls element\n",
    "call_number = split_string[2]\n",
    "call_number"
   ]
  },
  {
   "cell_type": "markdown",
   "id": "etif7Kb3tEUC",
   "metadata": {
    "id": "etif7Kb3tEUC"
   },
   "source": [
    "Şimdiye kadar, çok iyi!\n",
    "\n",
    "Ama gördüğünüz gibi 7. elementten sonra cümle sırası aynı değil.\n",
    "\n",
    "Ortalama anlaşma boyutunu ortaya çıkarmak için farklı bir yaklaşım bulmanız gerekir. İlgili öğeyi bulmak için \"$\" işaretini kullanabilirsiniz.\n",
    "\n",
    "📌 \"$\" işaretini içeren öğeyi bulmak için listenin üzerinde dolaşın.\n",
    "\n",
    "📌 Daha sonra dizeyi sayıya ve $ işaretine bölmek için .split() yöntemini kullanın."
   ]
  },
  {
   "cell_type": "code",
   "execution_count": 53,
   "id": "443a9ddf",
   "metadata": {
    "id": "443a9ddf"
   },
   "outputs": [
    {
     "data": {
      "text/plain": [
       "'8'"
      ]
     },
     "execution_count": 53,
     "metadata": {},
     "output_type": "execute_result"
    }
   ],
   "source": [
    "#Find the element with the \"$\" sign\n",
    "for i in split_string:\n",
    "  #Divide the number from it\n",
    "    if \"$\" in i:\n",
    "        average_deal_size = i.split(\"$\")[0]\n",
    "#Print the average deal size\n",
    "average_deal_size #dolar bulunan ifadenin önünde 8 var"
   ]
  },
  {
   "cell_type": "markdown",
   "id": "1332df7e",
   "metadata": {
    "id": "1332df7e"
   },
   "source": [
    "Benzer şekilde, \"dolar\" dizesinden hemen önceki öğe olan geliri elde etmek için \"dolar\" dizesini kullanabiliriz.\n",
    "\n",
    "📌 \"Dolar\" öğesinin indeksini tanımlamak için .index() yöntemini kullanın.\n",
    "\n",
    "📌 Daha sonra geliri belirlemek ve çıkarmak için bu endeksi kullanın."
   ]
  },
  {
   "cell_type": "code",
   "execution_count": 54,
   "id": "a00945b0",
   "metadata": {
    "id": "a00945b0"
   },
   "outputs": [
    {
     "data": {
      "text/plain": [
       "7"
      ]
     },
     "execution_count": 54,
     "metadata": {},
     "output_type": "execute_result"
    }
   ],
   "source": [
    "#Find the index of element \"dollars\"\n",
    "dollars_index = split_string.index(\"dollars\")\n",
    "dollars_index"
   ]
  },
  {
   "cell_type": "code",
   "execution_count": 57,
   "id": "c663bd03",
   "metadata": {
    "id": "c663bd03"
   },
   "outputs": [
    {
     "data": {
      "text/plain": [
       "6"
      ]
     },
     "execution_count": 57,
     "metadata": {},
     "output_type": "execute_result"
    }
   ],
   "source": [
    "#Gelir öğesinin endeksini belirlemek için endeksten birini çıkarın\n",
    "revenue_index = dollars_index - 1\n",
    "revenue_index"
   ]
  },
  {
   "cell_type": "code",
   "execution_count": 59,
   "id": "2831e072",
   "metadata": {
    "id": "2831e072"
   },
   "outputs": [
    {
     "data": {
      "text/plain": [
       "'2400'"
      ]
     },
     "execution_count": 59,
     "metadata": {},
     "output_type": "execute_result"
    }
   ],
   "source": [
    "#Extract the revenue\n",
    "revenue =split_string[revenue_index]\n",
    "revenue"
   ]
  },
  {
   "cell_type": "markdown",
   "id": "537ed4c2",
   "metadata": {
    "id": "537ed4c2"
   },
   "source": [
    "Great! You extracted all necessary information.\n",
    "\n",
    "📌 Print the information and check the types of the data."
   ]
  },
  {
   "cell_type": "code",
   "execution_count": 60,
   "id": "ace2c99f",
   "metadata": {
    "id": "ace2c99f"
   },
   "outputs": [
    {
     "name": "stdout",
     "output_type": "stream",
     "text": [
      "Name Ben\n",
      "Number of calls: 300\n",
      "Average deal size 8\n",
      "Revenue  2400\n"
     ]
    }
   ],
   "source": [
    "#Çıkarılan bilgilerin çıktısını alın\n",
    "print(\"Name\",name)\n",
    "print(\"Number of calls:\", call_number)\n",
    "print(\"Average deal size\",average_deal_size)\n",
    "print(\"Revenue \",revenue)\n"
   ]
  },
  {
   "cell_type": "code",
   "execution_count": 61,
   "id": "SwAyLOAInasY",
   "metadata": {
    "id": "SwAyLOAInasY"
   },
   "outputs": [
    {
     "name": "stdout",
     "output_type": "stream",
     "text": [
      "Name <class 'str'>\n",
      "Number of calls: <class 'str'>\n",
      "Average deal size <class 'str'>\n",
      "Revenue  <class 'str'>\n"
     ]
    }
   ],
   "source": [
    "#Türleri kontrol et\n",
    "print(\"Name\",type(name))\n",
    "print(\"Number of calls:\", type(call_number))\n",
    "print(\"Average deal size\",type(average_deal_size))\n",
    "print(\"Revenue \",type(revenue))"
   ]
  },
  {
   "cell_type": "markdown",
   "id": "08f5b5fd",
   "metadata": {
    "id": "08f5b5fd"
   },
   "source": [
    "\n",
    "Gördüğünüz gibi tüm veriler için tür dizemiz var ancak ortalama anlaşma boyutu, çağrı sayısı ve gelirin tam sayı olması gerekiyor.\n",
    "\n",
    "📌 İnt() fonksiyonunu kullanarak verileri dönüştürün ve tekrar kontrol edin."
   ]
  },
  {
   "cell_type": "code",
   "execution_count": 64,
   "id": "5f42e3f0",
   "metadata": {
    "colab": {
     "base_uri": "https://localhost:8080/",
     "height": 17
    },
    "id": "5f42e3f0",
    "outputId": "acab915b-2771-4de7-aad1-093b39f4b058"
   },
   "outputs": [],
   "source": [
    "#Ortalama anlaşma boyutu, çağrı sayısı ve gelire ilişkin veri türlerini dönüştürün\n",
    "average_deal_size = int(average_deal_size)\n",
    "call_number = int(call_number)\n",
    "revenue = int(revenue)"
   ]
  },
  {
   "cell_type": "code",
   "execution_count": 65,
   "id": "89dc6fa1",
   "metadata": {
    "id": "89dc6fa1"
   },
   "outputs": [
    {
     "name": "stdout",
     "output_type": "stream",
     "text": [
      "Name <class 'str'>\n",
      "Number of calls: <class 'int'>\n",
      "Average deal size <class 'int'>\n",
      "Revenue  <class 'int'>\n"
     ]
    }
   ],
   "source": [
    "#Print out the information again\n",
    "print(\"Name\",type(name))\n",
    "print(\"Number of calls:\", type(call_number))\n",
    "print(\"Average deal size\",type(average_deal_size))\n",
    "print(\"Revenue \",type(revenue))"
   ]
  },
  {
   "cell_type": "markdown",
   "id": "0b194713",
   "metadata": {
    "id": "0b194713"
   },
   "source": [
    "Artık tüm çalışanların farklı dizelerini içeren listeye tüm yöntemleri ve işlevleri uygulamanız gerekiyor.\n",
    "\n",
    "📌 İsimleri, arama sayısını, ortalama anlaşma boyutlarını ve gelirleri depolamak için boş bir liste oluşturun.\n",
    "\n",
    "📌 Tüm verilerle birlikte listeyi yinelemek için for döngüsünü kullanın.\n",
    "\n",
    "📌Gerekli bilgileri yazdırın."
   ]
  },
  {
   "cell_type": "code",
   "execution_count": 66,
   "id": "5a4aab7e",
   "metadata": {
    "id": "5a4aab7e"
   },
   "outputs": [],
   "source": [
    "#Create empty lists for the names, number of calls, average deal sizes, revenues\n",
    "names = []\n",
    "call_numbers = []\n",
    "average_deal_sizes = []\n",
    "revenues= []"
   ]
  },
  {
   "cell_type": "code",
   "execution_count": null,
   "id": "2366069b",
   "metadata": {
    "id": "2366069b"
   },
   "outputs": [],
   "source": [
    "#Loop over the whole data\n",
    "\n",
    "    #Clean the string\n",
    "   \n",
    "\n",
    "    #Split the clean string\n",
    "    \n",
    "    \n",
    "    #Extract the name\n",
    "    \n",
    "\n",
    "    #Extract the average deal size\n",
    " \n",
    "\n",
    "    #Extract the revenue\n",
    "\n",
    "\n",
    "    #Convert to the correct data types\n",
    "\n",
    "\n",
    "    #Append the information to the lists\n",
    "\n",
    "\n",
    "#Print out the information\n"
   ]
  },
  {
   "cell_type": "markdown",
   "id": "4d848787",
   "metadata": {
    "id": "4d848787"
   },
   "source": [
    "Finally, you can make the process even easier and reusable by defining functions.\n",
    "\n",
    "📌 Define the function \"clean_extract\".\n",
    "\n",
    "📌 Use the retured values by assigning them to variables."
   ]
  },
  {
   "cell_type": "code",
   "execution_count": null,
   "id": "_ipfpGrirCs7",
   "metadata": {
    "colab": {
     "base_uri": "https://localhost:8080/",
     "height": 17
    },
    "id": "_ipfpGrirCs7",
    "outputId": "5c4f5ebd-b114-4b61-e332-49cc94d13f25"
   },
   "outputs": [
    {
     "data": {
      "application/javascript": [
       "\n",
       "  for (rule of document.styleSheets[0].cssRules){\n",
       "    if (rule.selectorText=='body') {\n",
       "      rule.style.fontSize = '25px'\n",
       "      break\n",
       "    }\n",
       "  }\n",
       "  "
      ],
      "text/plain": [
       "<IPython.core.display.Javascript object>"
      ]
     },
     "metadata": {},
     "output_type": "display_data"
    },
    {
     "data": {
      "application/javascript": [
       "\n",
       "  for (rule of document.styleSheets[0].cssRules){\n",
       "    if (rule.selectorText=='body') {\n",
       "      rule.style.fontSize = '25px'\n",
       "      break\n",
       "    }\n",
       "  }\n",
       "  "
      ],
      "text/plain": [
       "<IPython.core.display.Javascript object>"
      ]
     },
     "metadata": {},
     "output_type": "display_data"
    }
   ],
   "source": [
    "#Create empty lists again\n"
   ]
  },
  {
   "cell_type": "code",
   "execution_count": null,
   "id": "tnFT5Fk2qu_x",
   "metadata": {
    "id": "tnFT5Fk2qu_x"
   },
   "outputs": [],
   "source": [
    "#Define a function to clean and extract the data\n"
   ]
  },
  {
   "cell_type": "code",
   "execution_count": null,
   "id": "13b0fe6b",
   "metadata": {
    "id": "13b0fe6b"
   },
   "outputs": [],
   "source": [
    "#Assign returned values to variables\n"
   ]
  },
  {
   "cell_type": "code",
   "execution_count": null,
   "id": "44e38957",
   "metadata": {
    "id": "44e38957"
   },
   "outputs": [],
   "source": [
    "#Print out the information\n"
   ]
  },
  {
   "cell_type": "markdown",
   "id": "26efe652",
   "metadata": {
    "id": "26efe652"
   },
   "source": [
    "### Performance Analysis Report\n",
    "\n",
    "Now that you cleaned the string and extracted all the information using the function, you can create performance analysis report for the last month.\n",
    "\n",
    "📌 Assign IDs to each employee.\n",
    "\n",
    "📌 Create dictionaries.\n",
    "\n",
    "📌 Sort the dictionaries.\n",
    "\n",
    "\n"
   ]
  },
  {
   "cell_type": "markdown",
   "id": "ZT7mAK3M5k3W",
   "metadata": {
    "id": "ZT7mAK3M5k3W"
   },
   "source": [
    "First, check how many employees there are and assign the IDs.\n",
    "\n",
    "📌 Use the len() and range() function.\n"
   ]
  },
  {
   "cell_type": "code",
   "execution_count": null,
   "id": "f20ff52f",
   "metadata": {
    "id": "f20ff52f"
   },
   "outputs": [],
   "source": [
    "#Check the number of employees\n"
   ]
  },
  {
   "cell_type": "code",
   "execution_count": null,
   "id": "5c62caf8",
   "metadata": {
    "id": "5c62caf8"
   },
   "outputs": [],
   "source": [
    "#Generate IDs\n"
   ]
  },
  {
   "cell_type": "code",
   "execution_count": null,
   "id": "28cd8ce6",
   "metadata": {
    "id": "28cd8ce6"
   },
   "outputs": [],
   "source": [
    "#Check the number of IDs\n"
   ]
  },
  {
   "cell_type": "markdown",
   "id": "NKP6Yoto6eqP",
   "metadata": {
    "id": "NKP6Yoto6eqP"
   },
   "source": [
    "With the IDs ready, you need to assign the IDs to the employees.\n",
    "\n",
    "📌 Use the zip() function to pair the employee with the ID.\n",
    "\n",
    "📌 Convert the zip object into a dictionary."
   ]
  },
  {
   "cell_type": "code",
   "execution_count": null,
   "id": "7e56a43f",
   "metadata": {
    "id": "7e56a43f"
   },
   "outputs": [],
   "source": [
    "#Pair the names with the IDs in a dictionary\n"
   ]
  },
  {
   "cell_type": "markdown",
   "id": "429d7b7f",
   "metadata": {
    "id": "429d7b7f"
   },
   "source": [
    "Similarly, create a dictionary for the  employees and their revenues."
   ]
  },
  {
   "cell_type": "code",
   "execution_count": null,
   "id": "aa2c6560",
   "metadata": {
    "id": "aa2c6560"
   },
   "outputs": [],
   "source": [
    "#Pair the names with the revenues\n",
    "\n"
   ]
  },
  {
   "cell_type": "markdown",
   "id": "Ou3ne5Vn76N_",
   "metadata": {
    "id": "Ou3ne5Vn76N_"
   },
   "source": [
    "Finally, you need to find the employees with the best and lowest performance.\n",
    "\n",
    "📌 Sort the dictionary using the sorted() function in ascending and descending order.\n"
   ]
  },
  {
   "cell_type": "code",
   "execution_count": null,
   "id": "d348a929",
   "metadata": {
    "id": "d348a929"
   },
   "outputs": [],
   "source": [
    "#Find the lowest performing employees (ascending order)\n"
   ]
  },
  {
   "cell_type": "code",
   "execution_count": null,
   "id": "3210f1ad",
   "metadata": {
    "id": "3210f1ad"
   },
   "outputs": [],
   "source": [
    "#Find the best performing employees (descending order)\n"
   ]
  }
 ],
 "metadata": {
  "colab": {
   "collapsed_sections": [],
   "name": "Guided_project_3_updated.ipynb",
   "provenance": []
  },
  "kernelspec": {
   "display_name": "Python 3 (ipykernel)",
   "language": "python",
   "name": "python3"
  },
  "language_info": {
   "codemirror_mode": {
    "name": "ipython",
    "version": 3
   },
   "file_extension": ".py",
   "mimetype": "text/x-python",
   "name": "python",
   "nbconvert_exporter": "python",
   "pygments_lexer": "ipython3",
   "version": "3.11.2"
  }
 },
 "nbformat": 4,
 "nbformat_minor": 5
}
