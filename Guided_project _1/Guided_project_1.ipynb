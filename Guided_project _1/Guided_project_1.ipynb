{
 "cells": [
  {
   "cell_type": "markdown",
   "metadata": {
    "id": "VMuUK0ap_bRD"
   },
   "source": [
    "# Chapter 1\n",
    "### Your first day at your new job 👩‍💻👨‍💻\n",
    "\n",
    "Bir BT şirketinde yardımcı yazılım geliştiricisi olarak yeni bir işe başlıyorsunuz.\n",
    "\n",
    "Şirketin İK departmanı sizden bir form doldurmanızı istiyor, böylece kişisel bilgilerinizi ilgili değişkenlere atayarak başlıyorsunuz.\n",
    "\n",
    "📌 Adınız, soyadınız, yaşınız, kimlik numaranız, ikamet ettiğiniz yer, aktif sağlık sigortanızın olup olmadığını belirtmek ve son olarak uyruğunuzu belirtmek için bir değişken oluşturun.\n"
   ]
  },
  {
   "cell_type": "code",
   "execution_count": 1,
   "metadata": {
    "id": "OPLhhc2Sp-D0"
   },
   "outputs": [],
   "source": [
    "#Lütfen kişisel bilgilerinizi değişkenlere atayın\n"
   ]
  },
  {
   "cell_type": "markdown",
   "metadata": {
    "id": "3zaUlxwcp-D0"
   },
   "source": [
    "###Karşılama ve selamlaşma\n",
    "Kendinizi yeni iş arkadaşlarınıza tanıtın.\n",
    "\n",
    "📌\"Benim adım Hafize Öğüt, 23 yaşındayım ve Sakarya'da yaşıyorum\" ifadesini yazdırmak için f-string kullanın."
   ]
  },
  {
   "cell_type": "code",
   "execution_count": null,
   "metadata": {
    "id": "XNuh5_2WXwvg"
   },
   "outputs": [],
   "source": [
    "#Yukarıdaki değişkenleri doğru veri türünde kullanarak kendinizi tanımlamak için yazdırma işlevini kullanarak bir cümle yazın"
   ]
  },
  {
   "cell_type": "markdown",
   "metadata": {
    "id": "EEL9To4ip-D1"
   },
   "source": [
    "### Ekipman başlangıç paketi\n",
    "İK departmanı sizden iş verimliliğinizi artırmak için ihtiyaç duyacağınız öğeleri listelemenizi ister\n",
    "\n",
    "Zorunlu:\n",
    "* Dizüstü bilgisayar\n",
    "* Kulaklık\n",
    "* İkinci monitör\n",
    "\n",
    "İsteğe bağlı:\n",
    "* Fare altlığı\n",
    "* USB sürücüsü\n",
    "* Harici Sürücü\n",
    "\n",
    "\n",
    "📌 Yukarıdaki ürünleri içeren bir alışveriş listesi oluşturun ve yazdırın."
   ]
  },
  {
   "cell_type": "code",
   "execution_count": null,
   "metadata": {
    "id": "fPFBLDyqp-D2"
   },
   "outputs": [],
   "source": [
    "#Create the item_list\n",
    "#item_list'i oluştur"
   ]
  },
  {
   "cell_type": "code",
   "execution_count": null,
   "metadata": {
    "id": "358R_CN5U2-J"
   },
   "outputs": [],
   "source": [
    "#Print the list\n",
    "#Listeyi yazdır"
   ]
  },
  {
   "cell_type": "markdown",
   "metadata": {
    "id": "5keEWjCyp-D2"
   },
   "source": [
    "####Ne zorunlu, ne isteğe bağlı?\n",
    "\n",
    "📌 Listenizi iki listeye ayırmak için liste dilimlemeyi kullanın: 'zorunlu_öğe_listesi' ve 'isteğe bağlı_öğe_listesi' ve her ikisini de ekrana yazdırın."
   ]
  },
  {
   "cell_type": "code",
   "execution_count": null,
   "metadata": {
    "id": "E6ewuDYZp-D2"
   },
   "outputs": [],
   "source": [
    "#Use list slicing to divide the mandatory items\n",
    "#Zorunlu öğeleri bölmek için liste dilimlemeyi kullanın"
   ]
  },
  {
   "cell_type": "code",
   "execution_count": null,
   "metadata": {
    "id": "hOmkym01RGEL"
   },
   "outputs": [],
   "source": [
    "#Use list slicing to divide the optional items\n",
    "#İsteğe bağlı öğeleri bölmek için liste dilimlemeyi kullanın"
   ]
  },
  {
   "cell_type": "code",
   "execution_count": null,
   "metadata": {
    "id": "xsVv1_msVE1_"
   },
   "outputs": [],
   "source": [
    "#Print both to the screen\n",
    "#İkisini de ekrana yazdır"
   ]
  },
  {
   "cell_type": "markdown",
   "metadata": {
    "id": "s_M1Q93wp-D3"
   },
   "source": [
    "#### Alışverişe gitmek\n",
    "Daha sonra gidip bu eşyaları satın almanız gerekecek, finans departmanı 5000 dolarlık bir bütçeyi onayladı.\n",
    "\n",
    "📌 Limit adı verilen değişkene 5000 atayın, böylece ne kadar harcayabileceğinizi bilirsiniz.\n"
   ]
  },
  {
   "cell_type": "code",
   "execution_count": null,
   "metadata": {
    "id": "nCmpm0oqp-D3"
   },
   "outputs": [],
   "source": [
    "#Assign the spending limit value to a variable called limit\n",
    "#Harcama limiti değerini limit adı verilen bir değişkene atayın"
   ]
  },
  {
   "cell_type": "markdown",
   "metadata": {
    "id": "VwbEEymVp-D3"
   },
   "source": [
    "####Fiyat sözlüğü\n",
    "\n",
    "Alışverişe başlamadan önce şirket bütçesi dahilinde satın alabileceğiniz en iyi ürünleri bulmanız gerekir.\n",
    "\n",
    "📌 Anahtar olarak kalemleri, değer olarak ise fiyatları içeren “fiyat_sayfası” adlı bir sözlük hazırlayın.\n",
    " "
   ]
  },
  {
   "cell_type": "code",
   "execution_count": null,
   "metadata": {
    "id": "9o9n9Ag-p-D3"
   },
   "outputs": [],
   "source": [
    "#Create a dictionary that contains each item and its price\n",
    "#Her öğeyi ve fiyatını içeren bir sözlük oluşturun\n"
   ]
  },
  {
   "cell_type": "markdown",
   "metadata": {
    "id": "rUYivBVEBhCv"
   },
   "source": [
    "####Alışveriş işlevleri\n",
    "\n",
    "Alışveriş sırasında size yardımcı olacak üç fonksiyonu tanımlamanız gerekiyor.\n",
    "\n",
    "📌Öncelikle alışveriş sepetiniz olacak boş bir liste oluşturun. Burada satın almanız gereken öğeleri ekleyeceksiniz.\n",
    "\n",
    "1. Hem sepete ürün eklemek hem de bunları ürün_listesinden kaldırmak için bir işlev tanımlayın.\n",
    "\n",
    "📌 \"Add_to_cart\" fonksiyonu argüman olarak ürün adını ve satın alınacak miktarı almalıdır.\n",
    "\n",
    "2. Fatura oluşturacak fonksiyonu tanımlayın.\n",
    "\n",
    "📌 \"create_invoice\" fonksiyonu her bir kalemin vergisini (%18) hesaplamalı ve bunu toplam tutara eklemelidir.\n",
    "\n",
    "3. Ödeme için bir işlev tanımlayın.\n",
    "\n",
    "📌 \"Ödeme\" işlevi, toplam tutarı bütçeden çıkarmalı ve ödemenin başarılı olup olmadığını bildiren bir bildirim yazdırmalıdır."
   ]
  },
  {
   "cell_type": "code",
   "execution_count": null,
   "metadata": {
    "id": "dBNZ2ZdkGHUe"
   },
   "outputs": [],
   "source": [
    "#Initialize the cart list\n",
    "#Sepet listesini başlat"
   ]
  },
  {
   "cell_type": "code",
   "execution_count": null,
   "metadata": {
    "id": "HH26hHHFGKPJ"
   },
   "outputs": [],
   "source": [
    "#Define the \"add_to_cart\" function\n",
    "#\"sepete_ekle\" işlevini tanımla"
   ]
  },
  {
   "cell_type": "code",
   "execution_count": null,
   "metadata": {
    "id": "TUmNr4xVGQdm"
   },
   "outputs": [],
   "source": [
    "#Define the \"create_invoice\" function\n",
    "#\"create_invoice\" işlevini tanımlayın"
   ]
  },
  {
   "cell_type": "code",
   "execution_count": null,
   "metadata": {
    "id": "iUlKiXgMGdIk"
   },
   "outputs": [],
   "source": [
    "#Define the \"checkout\" function\n",
    "#\"Ödeme\" işlevini tanımla"
   ]
  },
  {
   "cell_type": "markdown",
   "metadata": {
    "id": "2IFUlu0yB0In"
   },
   "source": [
    "Let's shop!"
   ]
  },
  {
   "cell_type": "code",
   "execution_count": 2,
   "metadata": {
    "id": "FDO7CRJTWPg7"
   },
   "outputs": [],
   "source": [
    "#Her öğe için \"add_to_cart\" işlevini çağırın\n",
    " \n",
    "#İlk ürünü sepete ekle\n",
    "\n",
    " \n",
    "#Sepete ikinci ürünü ekle\n",
    "\n",
    " \n",
    "#Sepete üçüncü ürünü ekle\n",
    "\n",
    " \n",
    "#Sepete dördüncü ürünü ekle\n",
    "\n",
    " \n",
    "#Sepete beşinci ürünü ekle\n",
    "\n",
    " \n",
    "#Sepete son ürünü ekle\n",
    "\n",
    " \n",
    "#Tüm öğelerinizin ödemesini yapmak için \"ödeme\" oluştur işlevini çağırın"
   ]
  },
  {
   "cell_type": "markdown",
   "metadata": {
    "id": "ZL-r2x_xKixg"
   },
   "source": [
    "###Oyun gecesi\n",
    "\n",
    "Ofise geri döndünüz ve İK departmanı yeni çalışanlar için bir hoş geldin partisi düzenliyor.\n",
    "\n",
    "Bir Taş-Kağıt-Makas oyunu oluşturmaya karar veriyorsunuz.\n",
    "\n",
    "📌 Kullanıcının bilgisayara karşı oynayacağı bir Taş-Kağıt-Makas oyunu oluşturun. Oyuncu eylemlerden birini seçecek ve bilgisayar eylemini rastgele seçecektir."
   ]
  },
  {
   "cell_type": "code",
   "execution_count": null,
   "metadata": {
    "id": "qzD5pxBTgcFb"
   },
   "outputs": [],
   "source": [
    "#Import the random library\n"
   ]
  },
  {
   "cell_type": "code",
   "execution_count": null,
   "metadata": {
    "id": "oJv-ihLAgcRo"
   },
   "outputs": [],
   "source": [
    "#create a list containing the three actions of the game.\n"
   ]
  },
  {
   "cell_type": "code",
   "execution_count": 3,
   "metadata": {
    "id": "DNUa_9afWqMd"
   },
   "outputs": [],
   "source": [
    "#Oyuncuların puanlarını 0'a ayarla\n",
    "\n",
    "\n",
    "#Kullanıcıya kaç tur oynamak istediğini sor\n",
    "\n",
    "\n",
    "#Başlangıcı 0 olan bir round_counter ekle\n",
    "\n",
    "\n",
    "#Bir süre döngüsü yaz ve oyunu içine koy\n",
    "\n",
    "\n",
    "   #round_counter değerini artır ve yazdır\n",
    "  \n",
    "\n",
    "\n",
    "   #Bilgisayar için rastgele bir eylem seç\n",
    "  \n",
    "\n",
    "   #Oyuncudan bir eylem seçmesini isteyin\n",
    "  \n",
    "\n",
    "   #Oyuncuların seçimlerini yazdır\n",
    "  \n",
    "\n",
    "\n",
    "\n",
    "   #kravat koşulu\n",
    "  \n",
    "\n",
    "\n",
    "   #Kalan koşullar\n",
    "  \n",
    "\n",
    "\n",
    "\n",
    "\n",
    "\n",
    "   #Round_counter toplam tur sayısına eşitse while döngüsünü durdurun\n",
    "  \n",
    "\n",
    "\n",
    "#Koşullu ifadeleri kullanarak oyunun sonucunu yazdırın"
   ]
  },
  {
   "cell_type": "markdown",
   "metadata": {
    "id": "jdrYN0Xgp-D6"
   },
   "source": [
    "# İlk göreviniz\n",
    "\n",
    "Rachel sizden her çalışanın adını ve getirdiği geliri takip edecek bir program yazmanızı istiyor.\n",
    "\n",
    "* Çalışan adını anahtar, geliri ise değer olarak görmek için \"satış elemanı_gelir\" sözlüğünü oluşturun.\n",
    "\n",
    "   📌 Her çalışan 0 gelirle başlar.\n",
    "* \"Gelir_giriş\" fonksiyonunu tanımlayın.\n",
    "\n",
    "   📌 Fonksiyon, adı ve geliri argüman olarak alır ve salesperson_revenue sözlüğünü günceller.\n"
   ]
  },
  {
   "cell_type": "code",
   "execution_count": null,
   "metadata": {
    "id": "3vzRo7hyMRv2"
   },
   "outputs": [],
   "source": [
    "#Create salesperson_revenue dictionary\n",
    "\n"
   ]
  },
  {
   "cell_type": "code",
   "execution_count": null,
   "metadata": {
    "id": "m-8IozBwMRzM"
   },
   "outputs": [],
   "source": [
    "#Define enter_revenue function\n",
    "\n"
   ]
  },
  {
   "cell_type": "markdown",
   "metadata": {
    "id": "UnTGSoNTi58u"
   },
   "source": [
    "####İşlevleri deneyin\n",
    "* Bir süre döngüsünde kullanıcıdan çalışanın adını ve geliri vermesini isteyin\n",
    "\n",
    "   📌 Kullanıcı “quit” girerse döngünün kırılması gerekir.\n",
    "\n",
    "Bundan sonra salesperson_revenue sözlüğünü yazdırın.\n"
   ]
  },
  {
   "cell_type": "code",
   "execution_count": null,
   "metadata": {
    "id": "2E549VvFXNi6"
   },
   "outputs": [],
   "source": [
    "#Asking user employee name as input\n",
    "#Giriş olarak kullanıcı çalışanının adını sorma"
   ]
  },
  {
   "cell_type": "code",
   "execution_count": null,
   "metadata": {
    "id": "OAvl9rgOXPe6"
   },
   "outputs": [],
   "source": [
    "#Print the salesperson_revenue dictionary\n",
    "#Satış elemanı_gelir sözlüğünü yazdır"
   ]
  }
 ],
 "metadata": {
  "colab": {
   "collapsed_sections": [],
   "name": "Guided_project_1.ipynb",
   "provenance": []
  },
  "interpreter": {
   "hash": "c5914ae3790566b9cd0e984a9bdda42a29da8adf046b5ac0173e0d37aacf3dab"
  },
  "kernelspec": {
   "display_name": "Python 3 (ipykernel)",
   "language": "python",
   "name": "python3"
  },
  "language_info": {
   "codemirror_mode": {
    "name": "ipython",
    "version": 3
   },
   "file_extension": ".py",
   "mimetype": "text/x-python",
   "name": "python",
   "nbconvert_exporter": "python",
   "pygments_lexer": "ipython3",
   "version": "3.11.2"
  }
 },
 "nbformat": 4,
 "nbformat_minor": 1
}
